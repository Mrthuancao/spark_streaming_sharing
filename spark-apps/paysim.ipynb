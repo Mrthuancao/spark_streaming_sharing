{
 "cells": [
  {
   "cell_type": "code",
   "execution_count": 1,
   "id": "127a5526-7518-4080-b17d-736c4e405fa0",
   "metadata": {},
   "outputs": [
    {
     "name": "stderr",
     "output_type": "stream",
     "text": [
      "Setting default log level to \"WARN\".\n",
      "To adjust logging level use sc.setLogLevel(newLevel). For SparkR, use setLogLevel(newLevel).\n",
      "24/05/28 09:25:04 WARN NativeCodeLoader: Unable to load native-hadoop library for your platform... using builtin-java classes where applicable\n"
     ]
    }
   ],
   "source": [
    "# %load_ext nb_black\n",
    "from pyspark.sql import SparkSession\n",
    "import pyspark.sql.functions as F\n",
    "import pyspark.sql.types as T\n",
    "\n",
    "spark = SparkSession.builder.getOrCreate()"
   ]
  },
  {
   "cell_type": "code",
   "execution_count": 5,
   "id": "f0ca910e-b37b-456f-b4e8-0e47bda339bd",
   "metadata": {},
   "outputs": [
    {
     "name": "stderr",
     "output_type": "stream",
     "text": [
      "                                                                                \r"
     ]
    }
   ],
   "source": [
    "df = spark.read.csv(\"paysim.csv\", header=True, inferSchema=True)"
   ]
  },
  {
   "cell_type": "code",
   "execution_count": 7,
   "id": "508df845-2fd3-4802-9b6c-c70ede076f51",
   "metadata": {},
   "outputs": [
    {
     "data": {
      "text/plain": [
       "['step',\n",
       " 'type',\n",
       " 'amount',\n",
       " 'nameOrig',\n",
       " 'oldbalanceOrg',\n",
       " 'newbalanceOrig',\n",
       " 'nameDest',\n",
       " 'oldbalanceDest',\n",
       " 'newbalanceDest',\n",
       " 'isFraud',\n",
       " 'isFlaggedFraud']"
      ]
     },
     "execution_count": 7,
     "metadata": {},
     "output_type": "execute_result"
    }
   ],
   "source": [
    "df.columns"
   ]
  },
  {
   "cell_type": "code",
   "execution_count": 8,
   "id": "ff4524f7-022d-490c-ae94-b3dc3cc4852e",
   "metadata": {},
   "outputs": [],
   "source": [
    "df = df.drop('isFraud', 'isFlaggedFraud')"
   ]
  },
  {
   "cell_type": "code",
   "execution_count": 9,
   "id": "802ec3fd-4bd8-475f-97e9-06d0f252571b",
   "metadata": {},
   "outputs": [
    {
     "name": "stderr",
     "output_type": "stream",
     "text": [
      "[Stage 4:>                                                          (0 + 4) / 4]\r"
     ]
    },
    {
     "name": "stdout",
     "output_type": "stream",
     "text": [
      "+----+-----+\n",
      "|step|count|\n",
      "+----+-----+\n",
      "| 148|   12|\n",
      "|  31|   12|\n",
      "|  85|   14|\n",
      "+----+-----+\n",
      "only showing top 3 rows\n",
      "\n"
     ]
    },
    {
     "name": "stderr",
     "output_type": "stream",
     "text": [
      "                                                                                \r"
     ]
    }
   ],
   "source": [
    "df.groupBy('step').count().show(3)"
   ]
  },
  {
   "cell_type": "code",
   "execution_count": 10,
   "id": "0d6d4b75-2409-4e05-a007-80e61cf0b40a",
   "metadata": {
    "scrolled": true
   },
   "outputs": [
    {
     "name": "stderr",
     "output_type": "stream",
     "text": [
      "24/05/28 04:23:48 WARN FileUtil: Failed to delete file or dir [/opt/spark/apps/data/paysim/_temporary/0 2]: it still exists.\n",
      "24/05/28 04:48:34 ERROR FileFormatWriter: Aborting job 73ba53ff-cd4f-4a9b-b8b6-9795e11b09e6.\n",
      "java.io.FileNotFoundException: File file:/opt/spark/apps/data/paysim/_temporary/0 does not exist\n",
      "\tat org.apache.hadoop.fs.RawLocalFileSystem.listStatus(RawLocalFileSystem.java:597)\n",
      "\tat org.apache.hadoop.fs.FileSystem.listStatus(FileSystem.java:1972)\n",
      "\tat org.apache.hadoop.fs.FileSystem.listStatus(FileSystem.java:2014)\n",
      "\tat org.apache.hadoop.fs.ChecksumFileSystem.listStatus(ChecksumFileSystem.java:761)\n",
      "\tat org.apache.hadoop.fs.FileSystem.listStatus(FileSystem.java:1972)\n",
      "\tat org.apache.hadoop.fs.FileSystem.listStatus(FileSystem.java:2014)\n",
      "\tat org.apache.hadoop.mapreduce.lib.output.FileOutputCommitter.getAllCommittedTaskPaths(FileOutputCommitter.java:334)\n",
      "\tat org.apache.hadoop.mapreduce.lib.output.FileOutputCommitter.commitJobInternal(FileOutputCommitter.java:404)\n",
      "\tat org.apache.hadoop.mapreduce.lib.output.FileOutputCommitter.commitJob(FileOutputCommitter.java:377)\n",
      "\tat org.apache.spark.internal.io.HadoopMapReduceCommitProtocol.commitJob(HadoopMapReduceCommitProtocol.scala:192)\n",
      "\tat org.apache.spark.sql.execution.datasources.FileFormatWriter$.$anonfun$writeAndCommit$3(FileFormatWriter.scala:275)\n",
      "\tat scala.runtime.java8.JFunction0$mcV$sp.apply(JFunction0$mcV$sp.java:23)\n",
      "\tat org.apache.spark.util.Utils$.timeTakenMs(Utils.scala:552)\n",
      "\tat org.apache.spark.sql.execution.datasources.FileFormatWriter$.writeAndCommit(FileFormatWriter.scala:275)\n",
      "\tat org.apache.spark.sql.execution.datasources.FileFormatWriter$.executeWrite(FileFormatWriter.scala:304)\n",
      "\tat org.apache.spark.sql.execution.datasources.FileFormatWriter$.write(FileFormatWriter.scala:190)\n",
      "\tat org.apache.spark.sql.execution.datasources.InsertIntoHadoopFsRelationCommand.run(InsertIntoHadoopFsRelationCommand.scala:190)\n",
      "\tat org.apache.spark.sql.execution.command.DataWritingCommandExec.sideEffectResult$lzycompute(commands.scala:113)\n",
      "\tat org.apache.spark.sql.execution.command.DataWritingCommandExec.sideEffectResult(commands.scala:111)\n",
      "\tat org.apache.spark.sql.execution.command.DataWritingCommandExec.executeCollect(commands.scala:125)\n",
      "\tat org.apache.spark.sql.execution.QueryExecution$$anonfun$eagerlyExecuteCommands$1.$anonfun$applyOrElse$1(QueryExecution.scala:107)\n",
      "\tat org.apache.spark.sql.execution.SQLExecution$.$anonfun$withNewExecutionId$6(SQLExecution.scala:125)\n",
      "\tat org.apache.spark.sql.execution.SQLExecution$.withSQLConfPropagated(SQLExecution.scala:201)\n",
      "\tat org.apache.spark.sql.execution.SQLExecution$.$anonfun$withNewExecutionId$1(SQLExecution.scala:108)\n",
      "\tat org.apache.spark.sql.SparkSession.withActive(SparkSession.scala:900)\n",
      "\tat org.apache.spark.sql.execution.SQLExecution$.withNewExecutionId(SQLExecution.scala:66)\n",
      "\tat org.apache.spark.sql.execution.QueryExecution$$anonfun$eagerlyExecuteCommands$1.applyOrElse(QueryExecution.scala:107)\n",
      "\tat org.apache.spark.sql.execution.QueryExecution$$anonfun$eagerlyExecuteCommands$1.applyOrElse(QueryExecution.scala:98)\n",
      "\tat org.apache.spark.sql.catalyst.trees.TreeNode.$anonfun$transformDownWithPruning$1(TreeNode.scala:461)\n",
      "\tat org.apache.spark.sql.catalyst.trees.CurrentOrigin$.withOrigin(origin.scala:76)\n",
      "\tat org.apache.spark.sql.catalyst.trees.TreeNode.transformDownWithPruning(TreeNode.scala:461)\n",
      "\tat org.apache.spark.sql.catalyst.plans.logical.LogicalPlan.org$apache$spark$sql$catalyst$plans$logical$AnalysisHelper$$super$transformDownWithPruning(LogicalPlan.scala:32)\n",
      "\tat org.apache.spark.sql.catalyst.plans.logical.AnalysisHelper.transformDownWithPruning(AnalysisHelper.scala:267)\n",
      "\tat org.apache.spark.sql.catalyst.plans.logical.AnalysisHelper.transformDownWithPruning$(AnalysisHelper.scala:263)\n",
      "\tat org.apache.spark.sql.catalyst.plans.logical.LogicalPlan.transformDownWithPruning(LogicalPlan.scala:32)\n",
      "\tat org.apache.spark.sql.catalyst.plans.logical.LogicalPlan.transformDownWithPruning(LogicalPlan.scala:32)\n",
      "\tat org.apache.spark.sql.catalyst.trees.TreeNode.transformDown(TreeNode.scala:437)\n",
      "\tat org.apache.spark.sql.execution.QueryExecution.eagerlyExecuteCommands(QueryExecution.scala:98)\n",
      "\tat org.apache.spark.sql.execution.QueryExecution.commandExecuted$lzycompute(QueryExecution.scala:85)\n",
      "\tat org.apache.spark.sql.execution.QueryExecution.commandExecuted(QueryExecution.scala:83)\n",
      "\tat org.apache.spark.sql.execution.QueryExecution.assertCommandExecuted(QueryExecution.scala:142)\n",
      "\tat org.apache.spark.sql.DataFrameWriter.runCommand(DataFrameWriter.scala:859)\n",
      "\tat org.apache.spark.sql.DataFrameWriter.saveToV1Source(DataFrameWriter.scala:388)\n",
      "\tat org.apache.spark.sql.DataFrameWriter.saveInternal(DataFrameWriter.scala:361)\n",
      "\tat org.apache.spark.sql.DataFrameWriter.save(DataFrameWriter.scala:240)\n",
      "\tat org.apache.spark.sql.DataFrameWriter.csv(DataFrameWriter.scala:850)\n",
      "\tat jdk.internal.reflect.GeneratedMethodAccessor69.invoke(Unknown Source)\n",
      "\tat java.base/jdk.internal.reflect.DelegatingMethodAccessorImpl.invoke(DelegatingMethodAccessorImpl.java:43)\n",
      "\tat java.base/java.lang.reflect.Method.invoke(Method.java:566)\n",
      "\tat py4j.reflection.MethodInvoker.invoke(MethodInvoker.java:244)\n",
      "\tat py4j.reflection.ReflectionEngine.invoke(ReflectionEngine.java:374)\n",
      "\tat py4j.Gateway.invoke(Gateway.java:282)\n",
      "\tat py4j.commands.AbstractCommand.invokeMethod(AbstractCommand.java:132)\n",
      "\tat py4j.commands.CallCommand.execute(CallCommand.java:79)\n",
      "\tat py4j.ClientServerConnection.waitForCommands(ClientServerConnection.java:182)\n",
      "\tat py4j.ClientServerConnection.run(ClientServerConnection.java:106)\n",
      "\tat java.base/java.lang.Thread.run(Thread.java:829)\n"
     ]
    },
    {
     "ename": "Py4JJavaError",
     "evalue": "An error occurred while calling o2302.csv.\n: java.io.FileNotFoundException: File file:/opt/spark/apps/data/paysim/_temporary/0 does not exist\n\tat org.apache.hadoop.fs.RawLocalFileSystem.listStatus(RawLocalFileSystem.java:597)\n\tat org.apache.hadoop.fs.FileSystem.listStatus(FileSystem.java:1972)\n\tat org.apache.hadoop.fs.FileSystem.listStatus(FileSystem.java:2014)\n\tat org.apache.hadoop.fs.ChecksumFileSystem.listStatus(ChecksumFileSystem.java:761)\n\tat org.apache.hadoop.fs.FileSystem.listStatus(FileSystem.java:1972)\n\tat org.apache.hadoop.fs.FileSystem.listStatus(FileSystem.java:2014)\n\tat org.apache.hadoop.mapreduce.lib.output.FileOutputCommitter.getAllCommittedTaskPaths(FileOutputCommitter.java:334)\n\tat org.apache.hadoop.mapreduce.lib.output.FileOutputCommitter.commitJobInternal(FileOutputCommitter.java:404)\n\tat org.apache.hadoop.mapreduce.lib.output.FileOutputCommitter.commitJob(FileOutputCommitter.java:377)\n\tat org.apache.spark.internal.io.HadoopMapReduceCommitProtocol.commitJob(HadoopMapReduceCommitProtocol.scala:192)\n\tat org.apache.spark.sql.execution.datasources.FileFormatWriter$.$anonfun$writeAndCommit$3(FileFormatWriter.scala:275)\n\tat scala.runtime.java8.JFunction0$mcV$sp.apply(JFunction0$mcV$sp.java:23)\n\tat org.apache.spark.util.Utils$.timeTakenMs(Utils.scala:552)\n\tat org.apache.spark.sql.execution.datasources.FileFormatWriter$.writeAndCommit(FileFormatWriter.scala:275)\n\tat org.apache.spark.sql.execution.datasources.FileFormatWriter$.executeWrite(FileFormatWriter.scala:304)\n\tat org.apache.spark.sql.execution.datasources.FileFormatWriter$.write(FileFormatWriter.scala:190)\n\tat org.apache.spark.sql.execution.datasources.InsertIntoHadoopFsRelationCommand.run(InsertIntoHadoopFsRelationCommand.scala:190)\n\tat org.apache.spark.sql.execution.command.DataWritingCommandExec.sideEffectResult$lzycompute(commands.scala:113)\n\tat org.apache.spark.sql.execution.command.DataWritingCommandExec.sideEffectResult(commands.scala:111)\n\tat org.apache.spark.sql.execution.command.DataWritingCommandExec.executeCollect(commands.scala:125)\n\tat org.apache.spark.sql.execution.QueryExecution$$anonfun$eagerlyExecuteCommands$1.$anonfun$applyOrElse$1(QueryExecution.scala:107)\n\tat org.apache.spark.sql.execution.SQLExecution$.$anonfun$withNewExecutionId$6(SQLExecution.scala:125)\n\tat org.apache.spark.sql.execution.SQLExecution$.withSQLConfPropagated(SQLExecution.scala:201)\n\tat org.apache.spark.sql.execution.SQLExecution$.$anonfun$withNewExecutionId$1(SQLExecution.scala:108)\n\tat org.apache.spark.sql.SparkSession.withActive(SparkSession.scala:900)\n\tat org.apache.spark.sql.execution.SQLExecution$.withNewExecutionId(SQLExecution.scala:66)\n\tat org.apache.spark.sql.execution.QueryExecution$$anonfun$eagerlyExecuteCommands$1.applyOrElse(QueryExecution.scala:107)\n\tat org.apache.spark.sql.execution.QueryExecution$$anonfun$eagerlyExecuteCommands$1.applyOrElse(QueryExecution.scala:98)\n\tat org.apache.spark.sql.catalyst.trees.TreeNode.$anonfun$transformDownWithPruning$1(TreeNode.scala:461)\n\tat org.apache.spark.sql.catalyst.trees.CurrentOrigin$.withOrigin(origin.scala:76)\n\tat org.apache.spark.sql.catalyst.trees.TreeNode.transformDownWithPruning(TreeNode.scala:461)\n\tat org.apache.spark.sql.catalyst.plans.logical.LogicalPlan.org$apache$spark$sql$catalyst$plans$logical$AnalysisHelper$$super$transformDownWithPruning(LogicalPlan.scala:32)\n\tat org.apache.spark.sql.catalyst.plans.logical.AnalysisHelper.transformDownWithPruning(AnalysisHelper.scala:267)\n\tat org.apache.spark.sql.catalyst.plans.logical.AnalysisHelper.transformDownWithPruning$(AnalysisHelper.scala:263)\n\tat org.apache.spark.sql.catalyst.plans.logical.LogicalPlan.transformDownWithPruning(LogicalPlan.scala:32)\n\tat org.apache.spark.sql.catalyst.plans.logical.LogicalPlan.transformDownWithPruning(LogicalPlan.scala:32)\n\tat org.apache.spark.sql.catalyst.trees.TreeNode.transformDown(TreeNode.scala:437)\n\tat org.apache.spark.sql.execution.QueryExecution.eagerlyExecuteCommands(QueryExecution.scala:98)\n\tat org.apache.spark.sql.execution.QueryExecution.commandExecuted$lzycompute(QueryExecution.scala:85)\n\tat org.apache.spark.sql.execution.QueryExecution.commandExecuted(QueryExecution.scala:83)\n\tat org.apache.spark.sql.execution.QueryExecution.assertCommandExecuted(QueryExecution.scala:142)\n\tat org.apache.spark.sql.DataFrameWriter.runCommand(DataFrameWriter.scala:859)\n\tat org.apache.spark.sql.DataFrameWriter.saveToV1Source(DataFrameWriter.scala:388)\n\tat org.apache.spark.sql.DataFrameWriter.saveInternal(DataFrameWriter.scala:361)\n\tat org.apache.spark.sql.DataFrameWriter.save(DataFrameWriter.scala:240)\n\tat org.apache.spark.sql.DataFrameWriter.csv(DataFrameWriter.scala:850)\n\tat jdk.internal.reflect.GeneratedMethodAccessor69.invoke(Unknown Source)\n\tat java.base/jdk.internal.reflect.DelegatingMethodAccessorImpl.invoke(DelegatingMethodAccessorImpl.java:43)\n\tat java.base/java.lang.reflect.Method.invoke(Method.java:566)\n\tat py4j.reflection.MethodInvoker.invoke(MethodInvoker.java:244)\n\tat py4j.reflection.ReflectionEngine.invoke(ReflectionEngine.java:374)\n\tat py4j.Gateway.invoke(Gateway.java:282)\n\tat py4j.commands.AbstractCommand.invokeMethod(AbstractCommand.java:132)\n\tat py4j.commands.CallCommand.execute(CallCommand.java:79)\n\tat py4j.ClientServerConnection.waitForCommands(ClientServerConnection.java:182)\n\tat py4j.ClientServerConnection.run(ClientServerConnection.java:106)\n\tat java.base/java.lang.Thread.run(Thread.java:829)\n",
     "output_type": "error",
     "traceback": [
      "\u001b[0;31m---------------------------------------------------------------------------\u001b[0m",
      "\u001b[0;31mPy4JJavaError\u001b[0m                             Traceback (most recent call last)",
      "File \u001b[0;32m<timed exec>:4\u001b[0m\n",
      "File \u001b[0;32m/opt/spark/python/pyspark/sql/readwriter.py:1864\u001b[0m, in \u001b[0;36mDataFrameWriter.csv\u001b[0;34m(self, path, mode, compression, sep, quote, escape, header, nullValue, escapeQuotes, quoteAll, dateFormat, timestampFormat, ignoreLeadingWhiteSpace, ignoreTrailingWhiteSpace, charToEscapeQuoteEscaping, encoding, emptyValue, lineSep)\u001b[0m\n\u001b[1;32m   1845\u001b[0m \u001b[38;5;28mself\u001b[39m\u001b[38;5;241m.\u001b[39mmode(mode)\n\u001b[1;32m   1846\u001b[0m \u001b[38;5;28mself\u001b[39m\u001b[38;5;241m.\u001b[39m_set_opts(\n\u001b[1;32m   1847\u001b[0m     compression\u001b[38;5;241m=\u001b[39mcompression,\n\u001b[1;32m   1848\u001b[0m     sep\u001b[38;5;241m=\u001b[39msep,\n\u001b[0;32m   (...)\u001b[0m\n\u001b[1;32m   1862\u001b[0m     lineSep\u001b[38;5;241m=\u001b[39mlineSep,\n\u001b[1;32m   1863\u001b[0m )\n\u001b[0;32m-> 1864\u001b[0m \u001b[38;5;28;43mself\u001b[39;49m\u001b[38;5;241;43m.\u001b[39;49m\u001b[43m_jwrite\u001b[49m\u001b[38;5;241;43m.\u001b[39;49m\u001b[43mcsv\u001b[49m\u001b[43m(\u001b[49m\u001b[43mpath\u001b[49m\u001b[43m)\u001b[49m\n",
      "File \u001b[0;32m/usr/local/lib/python3.11/site-packages/py4j/java_gateway.py:1322\u001b[0m, in \u001b[0;36mJavaMember.__call__\u001b[0;34m(self, *args)\u001b[0m\n\u001b[1;32m   1316\u001b[0m command \u001b[38;5;241m=\u001b[39m proto\u001b[38;5;241m.\u001b[39mCALL_COMMAND_NAME \u001b[38;5;241m+\u001b[39m\\\n\u001b[1;32m   1317\u001b[0m     \u001b[38;5;28mself\u001b[39m\u001b[38;5;241m.\u001b[39mcommand_header \u001b[38;5;241m+\u001b[39m\\\n\u001b[1;32m   1318\u001b[0m     args_command \u001b[38;5;241m+\u001b[39m\\\n\u001b[1;32m   1319\u001b[0m     proto\u001b[38;5;241m.\u001b[39mEND_COMMAND_PART\n\u001b[1;32m   1321\u001b[0m answer \u001b[38;5;241m=\u001b[39m \u001b[38;5;28mself\u001b[39m\u001b[38;5;241m.\u001b[39mgateway_client\u001b[38;5;241m.\u001b[39msend_command(command)\n\u001b[0;32m-> 1322\u001b[0m return_value \u001b[38;5;241m=\u001b[39m \u001b[43mget_return_value\u001b[49m\u001b[43m(\u001b[49m\n\u001b[1;32m   1323\u001b[0m \u001b[43m    \u001b[49m\u001b[43manswer\u001b[49m\u001b[43m,\u001b[49m\u001b[43m \u001b[49m\u001b[38;5;28;43mself\u001b[39;49m\u001b[38;5;241;43m.\u001b[39;49m\u001b[43mgateway_client\u001b[49m\u001b[43m,\u001b[49m\u001b[43m \u001b[49m\u001b[38;5;28;43mself\u001b[39;49m\u001b[38;5;241;43m.\u001b[39;49m\u001b[43mtarget_id\u001b[49m\u001b[43m,\u001b[49m\u001b[43m \u001b[49m\u001b[38;5;28;43mself\u001b[39;49m\u001b[38;5;241;43m.\u001b[39;49m\u001b[43mname\u001b[49m\u001b[43m)\u001b[49m\n\u001b[1;32m   1325\u001b[0m \u001b[38;5;28;01mfor\u001b[39;00m temp_arg \u001b[38;5;129;01min\u001b[39;00m temp_args:\n\u001b[1;32m   1326\u001b[0m     \u001b[38;5;28;01mif\u001b[39;00m \u001b[38;5;28mhasattr\u001b[39m(temp_arg, \u001b[38;5;124m\"\u001b[39m\u001b[38;5;124m_detach\u001b[39m\u001b[38;5;124m\"\u001b[39m):\n",
      "File \u001b[0;32m/opt/spark/python/pyspark/errors/exceptions/captured.py:179\u001b[0m, in \u001b[0;36mcapture_sql_exception.<locals>.deco\u001b[0;34m(*a, **kw)\u001b[0m\n\u001b[1;32m    177\u001b[0m \u001b[38;5;28;01mdef\u001b[39;00m \u001b[38;5;21mdeco\u001b[39m(\u001b[38;5;241m*\u001b[39ma: Any, \u001b[38;5;241m*\u001b[39m\u001b[38;5;241m*\u001b[39mkw: Any) \u001b[38;5;241m-\u001b[39m\u001b[38;5;241m>\u001b[39m Any:\n\u001b[1;32m    178\u001b[0m     \u001b[38;5;28;01mtry\u001b[39;00m:\n\u001b[0;32m--> 179\u001b[0m         \u001b[38;5;28;01mreturn\u001b[39;00m \u001b[43mf\u001b[49m\u001b[43m(\u001b[49m\u001b[38;5;241;43m*\u001b[39;49m\u001b[43ma\u001b[49m\u001b[43m,\u001b[49m\u001b[43m \u001b[49m\u001b[38;5;241;43m*\u001b[39;49m\u001b[38;5;241;43m*\u001b[39;49m\u001b[43mkw\u001b[49m\u001b[43m)\u001b[49m\n\u001b[1;32m    180\u001b[0m     \u001b[38;5;28;01mexcept\u001b[39;00m Py4JJavaError \u001b[38;5;28;01mas\u001b[39;00m e:\n\u001b[1;32m    181\u001b[0m         converted \u001b[38;5;241m=\u001b[39m convert_exception(e\u001b[38;5;241m.\u001b[39mjava_exception)\n",
      "File \u001b[0;32m/usr/local/lib/python3.11/site-packages/py4j/protocol.py:326\u001b[0m, in \u001b[0;36mget_return_value\u001b[0;34m(answer, gateway_client, target_id, name)\u001b[0m\n\u001b[1;32m    324\u001b[0m value \u001b[38;5;241m=\u001b[39m OUTPUT_CONVERTER[\u001b[38;5;28mtype\u001b[39m](answer[\u001b[38;5;241m2\u001b[39m:], gateway_client)\n\u001b[1;32m    325\u001b[0m \u001b[38;5;28;01mif\u001b[39;00m answer[\u001b[38;5;241m1\u001b[39m] \u001b[38;5;241m==\u001b[39m REFERENCE_TYPE:\n\u001b[0;32m--> 326\u001b[0m     \u001b[38;5;28;01mraise\u001b[39;00m Py4JJavaError(\n\u001b[1;32m    327\u001b[0m         \u001b[38;5;124m\"\u001b[39m\u001b[38;5;124mAn error occurred while calling \u001b[39m\u001b[38;5;132;01m{0}\u001b[39;00m\u001b[38;5;132;01m{1}\u001b[39;00m\u001b[38;5;132;01m{2}\u001b[39;00m\u001b[38;5;124m.\u001b[39m\u001b[38;5;130;01m\\n\u001b[39;00m\u001b[38;5;124m\"\u001b[39m\u001b[38;5;241m.\u001b[39m\n\u001b[1;32m    328\u001b[0m         \u001b[38;5;28mformat\u001b[39m(target_id, \u001b[38;5;124m\"\u001b[39m\u001b[38;5;124m.\u001b[39m\u001b[38;5;124m\"\u001b[39m, name), value)\n\u001b[1;32m    329\u001b[0m \u001b[38;5;28;01melse\u001b[39;00m:\n\u001b[1;32m    330\u001b[0m     \u001b[38;5;28;01mraise\u001b[39;00m Py4JError(\n\u001b[1;32m    331\u001b[0m         \u001b[38;5;124m\"\u001b[39m\u001b[38;5;124mAn error occurred while calling \u001b[39m\u001b[38;5;132;01m{0}\u001b[39;00m\u001b[38;5;132;01m{1}\u001b[39;00m\u001b[38;5;132;01m{2}\u001b[39;00m\u001b[38;5;124m. Trace:\u001b[39m\u001b[38;5;130;01m\\n\u001b[39;00m\u001b[38;5;132;01m{3}\u001b[39;00m\u001b[38;5;130;01m\\n\u001b[39;00m\u001b[38;5;124m\"\u001b[39m\u001b[38;5;241m.\u001b[39m\n\u001b[1;32m    332\u001b[0m         \u001b[38;5;28mformat\u001b[39m(target_id, \u001b[38;5;124m\"\u001b[39m\u001b[38;5;124m.\u001b[39m\u001b[38;5;124m\"\u001b[39m, name, value))\n",
      "\u001b[0;31mPy4JJavaError\u001b[0m: An error occurred while calling o2302.csv.\n: java.io.FileNotFoundException: File file:/opt/spark/apps/data/paysim/_temporary/0 does not exist\n\tat org.apache.hadoop.fs.RawLocalFileSystem.listStatus(RawLocalFileSystem.java:597)\n\tat org.apache.hadoop.fs.FileSystem.listStatus(FileSystem.java:1972)\n\tat org.apache.hadoop.fs.FileSystem.listStatus(FileSystem.java:2014)\n\tat org.apache.hadoop.fs.ChecksumFileSystem.listStatus(ChecksumFileSystem.java:761)\n\tat org.apache.hadoop.fs.FileSystem.listStatus(FileSystem.java:1972)\n\tat org.apache.hadoop.fs.FileSystem.listStatus(FileSystem.java:2014)\n\tat org.apache.hadoop.mapreduce.lib.output.FileOutputCommitter.getAllCommittedTaskPaths(FileOutputCommitter.java:334)\n\tat org.apache.hadoop.mapreduce.lib.output.FileOutputCommitter.commitJobInternal(FileOutputCommitter.java:404)\n\tat org.apache.hadoop.mapreduce.lib.output.FileOutputCommitter.commitJob(FileOutputCommitter.java:377)\n\tat org.apache.spark.internal.io.HadoopMapReduceCommitProtocol.commitJob(HadoopMapReduceCommitProtocol.scala:192)\n\tat org.apache.spark.sql.execution.datasources.FileFormatWriter$.$anonfun$writeAndCommit$3(FileFormatWriter.scala:275)\n\tat scala.runtime.java8.JFunction0$mcV$sp.apply(JFunction0$mcV$sp.java:23)\n\tat org.apache.spark.util.Utils$.timeTakenMs(Utils.scala:552)\n\tat org.apache.spark.sql.execution.datasources.FileFormatWriter$.writeAndCommit(FileFormatWriter.scala:275)\n\tat org.apache.spark.sql.execution.datasources.FileFormatWriter$.executeWrite(FileFormatWriter.scala:304)\n\tat org.apache.spark.sql.execution.datasources.FileFormatWriter$.write(FileFormatWriter.scala:190)\n\tat org.apache.spark.sql.execution.datasources.InsertIntoHadoopFsRelationCommand.run(InsertIntoHadoopFsRelationCommand.scala:190)\n\tat org.apache.spark.sql.execution.command.DataWritingCommandExec.sideEffectResult$lzycompute(commands.scala:113)\n\tat org.apache.spark.sql.execution.command.DataWritingCommandExec.sideEffectResult(commands.scala:111)\n\tat org.apache.spark.sql.execution.command.DataWritingCommandExec.executeCollect(commands.scala:125)\n\tat org.apache.spark.sql.execution.QueryExecution$$anonfun$eagerlyExecuteCommands$1.$anonfun$applyOrElse$1(QueryExecution.scala:107)\n\tat org.apache.spark.sql.execution.SQLExecution$.$anonfun$withNewExecutionId$6(SQLExecution.scala:125)\n\tat org.apache.spark.sql.execution.SQLExecution$.withSQLConfPropagated(SQLExecution.scala:201)\n\tat org.apache.spark.sql.execution.SQLExecution$.$anonfun$withNewExecutionId$1(SQLExecution.scala:108)\n\tat org.apache.spark.sql.SparkSession.withActive(SparkSession.scala:900)\n\tat org.apache.spark.sql.execution.SQLExecution$.withNewExecutionId(SQLExecution.scala:66)\n\tat org.apache.spark.sql.execution.QueryExecution$$anonfun$eagerlyExecuteCommands$1.applyOrElse(QueryExecution.scala:107)\n\tat org.apache.spark.sql.execution.QueryExecution$$anonfun$eagerlyExecuteCommands$1.applyOrElse(QueryExecution.scala:98)\n\tat org.apache.spark.sql.catalyst.trees.TreeNode.$anonfun$transformDownWithPruning$1(TreeNode.scala:461)\n\tat org.apache.spark.sql.catalyst.trees.CurrentOrigin$.withOrigin(origin.scala:76)\n\tat org.apache.spark.sql.catalyst.trees.TreeNode.transformDownWithPruning(TreeNode.scala:461)\n\tat org.apache.spark.sql.catalyst.plans.logical.LogicalPlan.org$apache$spark$sql$catalyst$plans$logical$AnalysisHelper$$super$transformDownWithPruning(LogicalPlan.scala:32)\n\tat org.apache.spark.sql.catalyst.plans.logical.AnalysisHelper.transformDownWithPruning(AnalysisHelper.scala:267)\n\tat org.apache.spark.sql.catalyst.plans.logical.AnalysisHelper.transformDownWithPruning$(AnalysisHelper.scala:263)\n\tat org.apache.spark.sql.catalyst.plans.logical.LogicalPlan.transformDownWithPruning(LogicalPlan.scala:32)\n\tat org.apache.spark.sql.catalyst.plans.logical.LogicalPlan.transformDownWithPruning(LogicalPlan.scala:32)\n\tat org.apache.spark.sql.catalyst.trees.TreeNode.transformDown(TreeNode.scala:437)\n\tat org.apache.spark.sql.execution.QueryExecution.eagerlyExecuteCommands(QueryExecution.scala:98)\n\tat org.apache.spark.sql.execution.QueryExecution.commandExecuted$lzycompute(QueryExecution.scala:85)\n\tat org.apache.spark.sql.execution.QueryExecution.commandExecuted(QueryExecution.scala:83)\n\tat org.apache.spark.sql.execution.QueryExecution.assertCommandExecuted(QueryExecution.scala:142)\n\tat org.apache.spark.sql.DataFrameWriter.runCommand(DataFrameWriter.scala:859)\n\tat org.apache.spark.sql.DataFrameWriter.saveToV1Source(DataFrameWriter.scala:388)\n\tat org.apache.spark.sql.DataFrameWriter.saveInternal(DataFrameWriter.scala:361)\n\tat org.apache.spark.sql.DataFrameWriter.save(DataFrameWriter.scala:240)\n\tat org.apache.spark.sql.DataFrameWriter.csv(DataFrameWriter.scala:850)\n\tat jdk.internal.reflect.GeneratedMethodAccessor69.invoke(Unknown Source)\n\tat java.base/jdk.internal.reflect.DelegatingMethodAccessorImpl.invoke(DelegatingMethodAccessorImpl.java:43)\n\tat java.base/java.lang.reflect.Method.invoke(Method.java:566)\n\tat py4j.reflection.MethodInvoker.invoke(MethodInvoker.java:244)\n\tat py4j.reflection.ReflectionEngine.invoke(ReflectionEngine.java:374)\n\tat py4j.Gateway.invoke(Gateway.java:282)\n\tat py4j.commands.AbstractCommand.invokeMethod(AbstractCommand.java:132)\n\tat py4j.commands.CallCommand.execute(CallCommand.java:79)\n\tat py4j.ClientServerConnection.waitForCommands(ClientServerConnection.java:182)\n\tat py4j.ClientServerConnection.run(ClientServerConnection.java:106)\n\tat java.base/java.lang.Thread.run(Thread.java:829)\n"
     ]
    }
   ],
   "source": [
    "%%time\n",
    "steps = df.select('step').distinct().collect()\n",
    "for step in steps[:]:\n",
    "    _df = df.where(f\"step = {step[0]}\")\n",
    "    _df.coalesce(1).write.mode(\"append\").option(\"header\", \"true\").csv('data/paysim')"
   ]
  },
  {
   "cell_type": "code",
   "execution_count": 2,
   "id": "260abf3e-23c5-4c0d-9b15-acc6283085f9",
   "metadata": {},
   "outputs": [
    {
     "name": "stderr",
     "output_type": "stream",
     "text": [
      "                                                                                \r"
     ]
    }
   ],
   "source": [
    "part = spark.read.csv(\n",
    "    './data/paysim/part-00000-f515e12d-25e5-402a-b722-d0f1c8d3bda7-c000.csv',\n",
    "    header = True,\n",
    "    inferSchema = True\n",
    ")"
   ]
  },
  {
   "cell_type": "code",
   "execution_count": 3,
   "id": "186b74c0-62e7-4abe-8ce6-0b6e9530599b",
   "metadata": {
    "scrolled": true
   },
   "outputs": [
    {
     "name": "stdout",
     "output_type": "stream",
     "text": [
      "+----+-----+\n",
      "|step|count|\n",
      "+----+-----+\n",
      "| 723|   14|\n",
      "+----+-----+\n",
      "\n"
     ]
    }
   ],
   "source": [
    "part.groupBy(\"step\").count().show()"
   ]
  },
  {
   "cell_type": "code",
   "execution_count": 4,
   "id": "1b53f9e1-7375-4ae5-bc11-03238d940335",
   "metadata": {},
   "outputs": [],
   "source": [
    "dataSchema = part.schema"
   ]
  },
  {
   "cell_type": "code",
   "execution_count": 5,
   "id": "359c6470-5fe5-4874-aaf8-7cb4579d4f6a",
   "metadata": {},
   "outputs": [
    {
     "data": {
      "text/plain": [
       "StructType([StructField('step', IntegerType(), True), StructField('type', StringType(), True), StructField('amount', DoubleType(), True), StructField('nameOrig', StringType(), True), StructField('oldbalanceOrg', DoubleType(), True), StructField('newbalanceOrig', DoubleType(), True), StructField('nameDest', StringType(), True), StructField('oldbalanceDest', DoubleType(), True), StructField('newbalanceDest', DoubleType(), True)])"
      ]
     },
     "execution_count": 5,
     "metadata": {},
     "output_type": "execute_result"
    }
   ],
   "source": [
    "dataSchema"
   ]
  },
  {
   "cell_type": "code",
   "execution_count": 6,
   "id": "f98c4ccd-1c30-4686-ad49-7d6eaca66018",
   "metadata": {},
   "outputs": [],
   "source": [
    "streaming = (\n",
    "    spark.readStream.schema(dataSchema)\n",
    "    .option(\"maxFilesPerTrigger\", 1)\n",
    "    .csv(\"data/paysimsmall/\")\n",
    ")"
   ]
  },
  {
   "cell_type": "code",
   "execution_count": 7,
   "id": "9b706cb0-eb7d-4798-b81b-1e4fc1de7b6e",
   "metadata": {},
   "outputs": [],
   "source": [
    "# dest_count = streaming.groupBy('nameDest').count().orderBy(F.desc(\"count\"))\n",
    "dest_count = streaming.groupBy('nameDest').count()"
   ]
  },
  {
   "cell_type": "code",
   "execution_count": 8,
   "id": "b9ef2b44-b45c-4a1f-8c4f-dbde2f327939",
   "metadata": {},
   "outputs": [
    {
     "name": "stderr",
     "output_type": "stream",
     "text": [
      "24/05/28 09:25:09 WARN ResolveWriteToStream: Temporary checkpoint location created which is deleted normally when the query didn't fail: /tmp/temporary-6629fef1-ce32-4037-a6c4-e3d5bfaab020. If it's required to delete it under any circumstances, please set spark.sql.streaming.forceDeleteTempCheckpointLocation to true. Important to know deleting temp checkpoint folder is best effort.\n",
      "24/05/28 09:25:09 WARN ResolveWriteToStream: spark.sql.adaptive.enabled is not supported in streaming DataFrames/Datasets and will be disabled.\n",
      "                                                                                \r"
     ]
    },
    {
     "name": "stdout",
     "output_type": "stream",
     "text": [
      "-------------------------------------------\n",
      "Batch: 0\n",
      "-------------------------------------------\n",
      "+-----------+-----+\n",
      "|   nameDest|count|\n",
      "+-----------+-----+\n",
      "| C597435768|    1|\n",
      "|C1511183581|    1|\n",
      "|C1316357800|    1|\n",
      "|C1459842129|    1|\n",
      "|C1583623584|    1|\n",
      "| C641615589|    1|\n",
      "|   nameDest|    1|\n",
      "+-----------+-----+\n",
      "\n"
     ]
    },
    {
     "name": "stderr",
     "output_type": "stream",
     "text": [
      "                                                                                \r"
     ]
    },
    {
     "name": "stdout",
     "output_type": "stream",
     "text": [
      "-------------------------------------------\n",
      "Batch: 1\n",
      "-------------------------------------------\n",
      "+-----------+-----+\n",
      "|   nameDest|count|\n",
      "+-----------+-----+\n",
      "|M1642391441|    1|\n",
      "|C1457522188|    1|\n",
      "| C910112681|    1|\n",
      "|M1218745950|    1|\n",
      "| C721115370|    1|\n",
      "| C786512193|    2|\n",
      "| M713067069|    1|\n",
      "|C1647152236|    2|\n",
      "|C1300598982|    1|\n",
      "|M1203970824|    1|\n",
      "|M1402464107|    1|\n",
      "| C866704200|    1|\n",
      "|M1693297901|    1|\n",
      "|C1466697191|    3|\n",
      "|C1412624210|    1|\n",
      "| C535412111|    1|\n",
      "|M1916811047|    1|\n",
      "|M1030277414|    1|\n",
      "|C1371162684|    2|\n",
      "|  C14533095|    1|\n",
      "+-----------+-----+\n",
      "only showing top 20 rows\n",
      "\n"
     ]
    },
    {
     "name": "stderr",
     "output_type": "stream",
     "text": [
      "                                                                                \r"
     ]
    },
    {
     "name": "stdout",
     "output_type": "stream",
     "text": [
      "-------------------------------------------\n",
      "Batch: 2\n",
      "-------------------------------------------\n",
      "+-----------+-----+\n",
      "|   nameDest|count|\n",
      "+-----------+-----+\n",
      "| M954976358|    1|\n",
      "|M1908321704|    1|\n",
      "| M884858691|    1|\n",
      "|M1042853700|    1|\n",
      "| M902894836|    1|\n",
      "|M2072818307|    1|\n",
      "|M1858702540|    1|\n",
      "|M1388117264|    1|\n",
      "| M801808302|    1|\n",
      "|M1724619363|    1|\n",
      "| M140301331|    1|\n",
      "| C701279123|    1|\n",
      "| M965874704|    1|\n",
      "| M993731216|    1|\n",
      "| M870900038|    1|\n",
      "| M127269549|    1|\n",
      "| M719068804|    1|\n",
      "| C451934410|    2|\n",
      "|M1327842480|    1|\n",
      "|M1333929103|    1|\n",
      "+-----------+-----+\n",
      "only showing top 20 rows\n",
      "\n"
     ]
    },
    {
     "name": "stderr",
     "output_type": "stream",
     "text": [
      "                                                                                \r"
     ]
    },
    {
     "name": "stdout",
     "output_type": "stream",
     "text": [
      "-------------------------------------------\n",
      "Batch: 3\n",
      "-------------------------------------------\n",
      "+-----------+-----+\n",
      "|   nameDest|count|\n",
      "+-----------+-----+\n",
      "| C209740901|    1|\n",
      "|C1843295387|    1|\n",
      "| C576388440|    1|\n",
      "|C1097922403|    1|\n",
      "|C1282495156|    1|\n",
      "|C1531239198|    1|\n",
      "|C1598093158|    1|\n",
      "|C1638592349|    1|\n",
      "|C1075308511|    1|\n",
      "|C1204122756|    1|\n",
      "| C349558333|    2|\n",
      "|   nameDest|    4|\n",
      "|C1197582921|    1|\n",
      "+-----------+-----+\n",
      "\n"
     ]
    },
    {
     "name": "stderr",
     "output_type": "stream",
     "text": [
      "                                                                                \r"
     ]
    },
    {
     "name": "stdout",
     "output_type": "stream",
     "text": [
      "-------------------------------------------\n",
      "Batch: 4\n",
      "-------------------------------------------\n",
      "+-----------+-----+\n",
      "|   nameDest|count|\n",
      "+-----------+-----+\n",
      "|C1599162782|    1|\n",
      "| C785812458|    2|\n",
      "|M2110240349|    1|\n",
      "| M259853887|    1|\n",
      "| M802584680|    1|\n",
      "| M913307762|    1|\n",
      "| M319347456|    1|\n",
      "| C634594411|    1|\n",
      "|C1752591265|    3|\n",
      "|C1426771321|    1|\n",
      "| C240448605|    1|\n",
      "|M1659595878|    1|\n",
      "| C368126079|    1|\n",
      "|  C80731303|    1|\n",
      "|M1556459407|    1|\n",
      "|C1368107721|    1|\n",
      "| M235660464|    1|\n",
      "|M1281927757|    1|\n",
      "|M1257827490|    1|\n",
      "|C1168838279|    1|\n",
      "+-----------+-----+\n",
      "only showing top 20 rows\n",
      "\n"
     ]
    },
    {
     "name": "stderr",
     "output_type": "stream",
     "text": [
      "                                                                                \r"
     ]
    },
    {
     "name": "stdout",
     "output_type": "stream",
     "text": [
      "-------------------------------------------\n",
      "Batch: 5\n",
      "-------------------------------------------\n",
      "+-----------+-----+\n",
      "|   nameDest|count|\n",
      "+-----------+-----+\n",
      "| C245389073|    1|\n",
      "| C895220334|    1|\n",
      "| C976257399|    1|\n",
      "| C829302750|    1|\n",
      "|C1822078212|    1|\n",
      "|C1065751095|    1|\n",
      "|C2134026296|    1|\n",
      "| C782666310|    1|\n",
      "|   nameDest|    6|\n",
      "| C776089262|    1|\n",
      "|  C29820940|    1|\n",
      "+-----------+-----+\n",
      "\n"
     ]
    },
    {
     "name": "stderr",
     "output_type": "stream",
     "text": [
      "                                                                                \r"
     ]
    },
    {
     "name": "stdout",
     "output_type": "stream",
     "text": [
      "-------------------------------------------\n",
      "Batch: 6\n",
      "-------------------------------------------\n",
      "+-----------+-----+\n",
      "|   nameDest|count|\n",
      "+-----------+-----+\n",
      "|C1029607217|    1|\n",
      "| C691637954|    1|\n",
      "|C1971557254|    1|\n",
      "| C221622307|    1|\n",
      "| C836948657|    1|\n",
      "| C920916112|    1|\n",
      "|C2100877994|    1|\n",
      "|   nameDest|    7|\n",
      "|  C44076641|    1|\n",
      "+-----------+-----+\n",
      "\n"
     ]
    },
    {
     "name": "stderr",
     "output_type": "stream",
     "text": [
      "                                                                                \r"
     ]
    },
    {
     "name": "stdout",
     "output_type": "stream",
     "text": [
      "-------------------------------------------\n",
      "Batch: 7\n",
      "-------------------------------------------\n",
      "+-----------+-----+\n",
      "|   nameDest|count|\n",
      "+-----------+-----+\n",
      "|C1450230231|    1|\n",
      "| C199894349|    3|\n",
      "|C1972270230|    2|\n",
      "| C826515728|    1|\n",
      "|M1308472069|    1|\n",
      "|C1598993730|    1|\n",
      "| C251767152|    1|\n",
      "|C1295215616|    1|\n",
      "|M1173160778|    1|\n",
      "|M1844445032|    1|\n",
      "| M667011166|    1|\n",
      "|M1317427711|    1|\n",
      "|  C87342933|    2|\n",
      "| M747538073|    1|\n",
      "|M2110610060|    1|\n",
      "|M1327169884|    1|\n",
      "|C1103344731|    1|\n",
      "|C1868117364|    1|\n",
      "|C1482620249|    1|\n",
      "|M1123921224|    1|\n",
      "+-----------+-----+\n",
      "only showing top 20 rows\n",
      "\n"
     ]
    },
    {
     "name": "stderr",
     "output_type": "stream",
     "text": [
      "                                                                                \r"
     ]
    },
    {
     "name": "stdout",
     "output_type": "stream",
     "text": [
      "-------------------------------------------\n",
      "Batch: 8\n",
      "-------------------------------------------\n",
      "+-----------+-----+\n",
      "|   nameDest|count|\n",
      "+-----------+-----+\n",
      "|C1688178695|    1|\n",
      "|C1613034326|    1|\n",
      "|C1587418917|    2|\n",
      "|   nameDest|    9|\n",
      "| C377236919|    1|\n",
      "+-----------+-----+\n",
      "\n"
     ]
    },
    {
     "name": "stderr",
     "output_type": "stream",
     "text": [
      "                                                                                \r"
     ]
    },
    {
     "name": "stdout",
     "output_type": "stream",
     "text": [
      "-------------------------------------------\n",
      "Batch: 9\n",
      "-------------------------------------------\n",
      "+-----------+-----+\n",
      "|   nameDest|count|\n",
      "+-----------+-----+\n",
      "| M179385664|    1|\n",
      "|C1359699810|    1|\n",
      "|C2128725603|    1|\n",
      "|M1327437878|    1|\n",
      "| C701707957|    1|\n",
      "|M2102263945|    1|\n",
      "| C397189489|    1|\n",
      "|C1984989400|    2|\n",
      "|C1969080281|    1|\n",
      "| C999976053|    2|\n",
      "|C1322993300|    1|\n",
      "|C1153470954|    1|\n",
      "|C1539996411|    1|\n",
      "|C1103082205|    1|\n",
      "| C912555070|    1|\n",
      "|C1739090801|    1|\n",
      "| C240448605|    2|\n",
      "|C1030932737|    1|\n",
      "|C1870563315|    2|\n",
      "|C1130257053|    2|\n",
      "+-----------+-----+\n",
      "only showing top 20 rows\n",
      "\n"
     ]
    },
    {
     "name": "stderr",
     "output_type": "stream",
     "text": [
      "                                                                                \r"
     ]
    },
    {
     "name": "stdout",
     "output_type": "stream",
     "text": [
      "-------------------------------------------\n",
      "Batch: 10\n",
      "-------------------------------------------\n",
      "+-----------+-----+\n",
      "|   nameDest|count|\n",
      "+-----------+-----+\n",
      "| C781083195|    1|\n",
      "|C1396988344|    1|\n",
      "|C1024161943|    1|\n",
      "|C1732817669|    1|\n",
      "|C1743578484|    1|\n",
      "| C544677509|    2|\n",
      "|C1977391812|    1|\n",
      "|C1636281428|    1|\n",
      "|C1295977505|    1|\n",
      "|   nameDest|   11|\n",
      "| C863062485|    1|\n",
      "+-----------+-----+\n",
      "\n"
     ]
    },
    {
     "name": "stderr",
     "output_type": "stream",
     "text": [
      "                                                                                \r"
     ]
    },
    {
     "name": "stdout",
     "output_type": "stream",
     "text": [
      "-------------------------------------------\n",
      "Batch: 11\n",
      "-------------------------------------------\n",
      "+-----------+-----+\n",
      "|   nameDest|count|\n",
      "+-----------+-----+\n",
      "| C593187537|    1|\n",
      "|  C99221991|    1|\n",
      "|  C70004631|    1|\n",
      "|M1735295185|    1|\n",
      "|C1788050799|    1|\n",
      "| C719717377|    1|\n",
      "|  C33558375|    1|\n",
      "| C279222943|    1|\n",
      "|C1486918018|    1|\n",
      "| C743319580|    1|\n",
      "| M822801248|    1|\n",
      "|M1254981531|    1|\n",
      "|M1202133981|    1|\n",
      "| C947991028|    1|\n",
      "|C1307677746|    2|\n",
      "|C1769179597|    1|\n",
      "| C508814145|    3|\n",
      "| M203662344|    1|\n",
      "|M2090878685|    1|\n",
      "| M923684022|    1|\n",
      "+-----------+-----+\n",
      "only showing top 20 rows\n",
      "\n"
     ]
    },
    {
     "name": "stderr",
     "output_type": "stream",
     "text": [
      "                                                                                \r"
     ]
    },
    {
     "name": "stdout",
     "output_type": "stream",
     "text": [
      "-------------------------------------------\n",
      "Batch: 12\n",
      "-------------------------------------------\n",
      "+-----------+-----+\n",
      "|   nameDest|count|\n",
      "+-----------+-----+\n",
      "|C1422239092|    1|\n",
      "|C2000713595|    2|\n",
      "|C1060799549|    1|\n",
      "|C1023330867|    1|\n",
      "| C291162245|    1|\n",
      "| C175252004|    2|\n",
      "|   nameDest|   13|\n",
      "| C253690179|    1|\n",
      "|C1533222283|    2|\n",
      "|C2097692432|    1|\n",
      "|C1196711051|    1|\n",
      "+-----------+-----+\n",
      "\n"
     ]
    },
    {
     "name": "stderr",
     "output_type": "stream",
     "text": [
      "                                                                                \r"
     ]
    },
    {
     "name": "stdout",
     "output_type": "stream",
     "text": [
      "-------------------------------------------\n",
      "Batch: 13\n",
      "-------------------------------------------\n",
      "+-----------+-----+\n",
      "|   nameDest|count|\n",
      "+-----------+-----+\n",
      "|C1422239092|    2|\n",
      "|C2000713595|    3|\n",
      "|C1060799549|    2|\n",
      "|C1023330867|    2|\n",
      "| C291162245|    2|\n",
      "| C175252004|    3|\n",
      "|   nameDest|   14|\n",
      "| C253690179|    2|\n",
      "|C1533222283|    3|\n",
      "|C2097692432|    2|\n",
      "|C1196711051|    2|\n",
      "+-----------+-----+\n",
      "\n"
     ]
    },
    {
     "name": "stderr",
     "output_type": "stream",
     "text": [
      "                                                                                \r"
     ]
    },
    {
     "name": "stdout",
     "output_type": "stream",
     "text": [
      "-------------------------------------------\n",
      "Batch: 14\n",
      "-------------------------------------------\n",
      "+-----------+-----+\n",
      "|   nameDest|count|\n",
      "+-----------+-----+\n",
      "|C1422239092|    3|\n",
      "|C2000713595|    4|\n",
      "|C1060799549|    3|\n",
      "|C1023330867|    3|\n",
      "| C291162245|    3|\n",
      "| C175252004|    4|\n",
      "|   nameDest|   15|\n",
      "| C253690179|    3|\n",
      "|C1533222283|    4|\n",
      "|C2097692432|    3|\n",
      "|C1196711051|    3|\n",
      "+-----------+-----+\n",
      "\n"
     ]
    }
   ],
   "source": [
    "activityQuery = (\n",
    "    dest_count.writeStream.queryName(\"dest_counts\")\n",
    "    .format(\"console\")\n",
    "    .outputMode(\"update\")\n",
    "    .start()\n",
    ")\n",
    "\n",
    "# activityQuery.awaitTermination()\n",
    "\n"
   ]
  },
  {
   "cell_type": "code",
   "execution_count": null,
   "id": "cebcf79c-a3ed-43a7-bb3b-12f678066862",
   "metadata": {
    "scrolled": true
   },
   "outputs": [
    {
     "name": "stderr",
     "output_type": "stream",
     "text": [
      "24/05/28 09:22:11 WARN TaskSetManager: Stage 266 contains a task of very large size (3432 KiB). The maximum recommended task size is 1000 KiB.\n",
      "24/05/28 09:22:12 WARN TaskSetManager: Stage 269 contains a task of very large size (3432 KiB). The maximum recommended task size is 1000 KiB.\n"
     ]
    },
    {
     "name": "stdout",
     "output_type": "stream",
     "text": [
      "+-----------+-----+\n",
      "|   nameDest|count|\n",
      "+-----------+-----+\n",
      "| C786512193|    2|\n",
      "|C1647152236|    2|\n",
      "|C1466697191|    3|\n",
      "|C1371162684|    2|\n",
      "|C1877914664|    2|\n",
      "| C429293207|    2|\n",
      "| C795714848|    2|\n",
      "|C2121557453|    2|\n",
      "|  C33956056|    2|\n",
      "|C1188162916|    2|\n",
      "+-----------+-----+\n",
      "only showing top 10 rows\n",
      "\n"
     ]
    },
    {
     "name": "stderr",
     "output_type": "stream",
     "text": [
      "24/05/28 09:22:13 WARN TaskSetManager: Stage 270 contains a task of very large size (3432 KiB). The maximum recommended task size is 1000 KiB.\n",
      "24/05/28 09:22:13 WARN TaskSetManager: Stage 273 contains a task of very large size (3432 KiB). The maximum recommended task size is 1000 KiB.\n"
     ]
    },
    {
     "name": "stdout",
     "output_type": "stream",
     "text": [
      "+-----------+-----+\n",
      "|   nameDest|count|\n",
      "+-----------+-----+\n",
      "| C786512193|    2|\n",
      "|C1647152236|    2|\n",
      "|C1466697191|    3|\n",
      "|C1371162684|    2|\n",
      "|C1877914664|    2|\n",
      "| C429293207|    2|\n",
      "| C795714848|    2|\n",
      "|C2121557453|    2|\n",
      "|  C33956056|    2|\n",
      "|C1188162916|    2|\n",
      "+-----------+-----+\n",
      "only showing top 10 rows\n",
      "\n"
     ]
    },
    {
     "name": "stderr",
     "output_type": "stream",
     "text": [
      "24/05/28 09:22:14 WARN TaskSetManager: Stage 274 contains a task of very large size (3432 KiB). The maximum recommended task size is 1000 KiB.\n",
      "24/05/28 09:22:14 WARN TaskSetManager: Stage 277 contains a task of very large size (3432 KiB). The maximum recommended task size is 1000 KiB.\n"
     ]
    },
    {
     "name": "stdout",
     "output_type": "stream",
     "text": [
      "+-----------+-----+\n",
      "|   nameDest|count|\n",
      "+-----------+-----+\n",
      "| C786512193|    2|\n",
      "|C1647152236|    2|\n",
      "|C1466697191|    3|\n",
      "|C1371162684|    2|\n",
      "|C1877914664|    2|\n",
      "| C429293207|    2|\n",
      "| C795714848|    2|\n",
      "|C2121557453|    2|\n",
      "|  C33956056|    2|\n",
      "|C1188162916|    2|\n",
      "+-----------+-----+\n",
      "only showing top 10 rows\n",
      "\n"
     ]
    },
    {
     "name": "stderr",
     "output_type": "stream",
     "text": [
      "24/05/28 09:22:15 WARN TaskSetManager: Stage 278 contains a task of very large size (3432 KiB). The maximum recommended task size is 1000 KiB.\n",
      "24/05/28 09:22:15 WARN TaskSetManager: Stage 281 contains a task of very large size (3432 KiB). The maximum recommended task size is 1000 KiB.\n"
     ]
    },
    {
     "name": "stdout",
     "output_type": "stream",
     "text": [
      "+-----------+-----+\n",
      "|   nameDest|count|\n",
      "+-----------+-----+\n",
      "| C786512193|    2|\n",
      "|C1647152236|    2|\n",
      "|C1466697191|    3|\n",
      "|C1371162684|    2|\n",
      "|C1877914664|    2|\n",
      "| C429293207|    2|\n",
      "| C795714848|    2|\n",
      "|C2121557453|    2|\n",
      "|  C33956056|    2|\n",
      "|C1188162916|    2|\n",
      "+-----------+-----+\n",
      "only showing top 10 rows\n",
      "\n"
     ]
    },
    {
     "name": "stderr",
     "output_type": "stream",
     "text": [
      "24/05/28 09:22:16 WARN TaskSetManager: Stage 282 contains a task of very large size (3432 KiB). The maximum recommended task size is 1000 KiB.\n",
      "24/05/28 09:22:17 WARN TaskSetManager: Stage 285 contains a task of very large size (3432 KiB). The maximum recommended task size is 1000 KiB.\n"
     ]
    },
    {
     "name": "stdout",
     "output_type": "stream",
     "text": [
      "+-----------+-----+\n",
      "|   nameDest|count|\n",
      "+-----------+-----+\n",
      "| C786512193|    2|\n",
      "|C1647152236|    2|\n",
      "|C1466697191|    3|\n",
      "|C1371162684|    2|\n",
      "|C1877914664|    2|\n",
      "| C429293207|    2|\n",
      "| C795714848|    2|\n",
      "|C2121557453|    2|\n",
      "|  C33956056|    2|\n",
      "|C1188162916|    2|\n",
      "+-----------+-----+\n",
      "only showing top 10 rows\n",
      "\n"
     ]
    },
    {
     "name": "stderr",
     "output_type": "stream",
     "text": [
      "24/05/28 09:22:17 WARN TaskSetManager: Stage 286 contains a task of very large size (3432 KiB). The maximum recommended task size is 1000 KiB.\n",
      "24/05/28 09:22:18 WARN TaskSetManager: Stage 289 contains a task of very large size (3432 KiB). The maximum recommended task size is 1000 KiB.\n"
     ]
    },
    {
     "name": "stdout",
     "output_type": "stream",
     "text": [
      "+-----------+-----+\n",
      "|   nameDest|count|\n",
      "+-----------+-----+\n",
      "| C786512193|    2|\n",
      "|C1647152236|    2|\n",
      "|C1466697191|    3|\n",
      "|C1371162684|    2|\n",
      "|C1877914664|    2|\n",
      "| C429293207|    2|\n",
      "| C795714848|    2|\n",
      "|C2121557453|    2|\n",
      "|  C33956056|    2|\n",
      "|C1188162916|    2|\n",
      "+-----------+-----+\n",
      "only showing top 10 rows\n",
      "\n"
     ]
    },
    {
     "name": "stderr",
     "output_type": "stream",
     "text": [
      "24/05/28 09:22:19 WARN TaskSetManager: Stage 290 contains a task of very large size (3432 KiB). The maximum recommended task size is 1000 KiB.\n",
      "24/05/28 09:22:19 WARN TaskSetManager: Stage 293 contains a task of very large size (3432 KiB). The maximum recommended task size is 1000 KiB.\n"
     ]
    },
    {
     "name": "stdout",
     "output_type": "stream",
     "text": [
      "+-----------+-----+\n",
      "|   nameDest|count|\n",
      "+-----------+-----+\n",
      "| C786512193|    2|\n",
      "|C1647152236|    2|\n",
      "|C1466697191|    3|\n",
      "|C1371162684|    2|\n",
      "|C1877914664|    2|\n",
      "| C429293207|    2|\n",
      "| C795714848|    2|\n",
      "|C2121557453|    2|\n",
      "|  C33956056|    2|\n",
      "|C1188162916|    2|\n",
      "+-----------+-----+\n",
      "only showing top 10 rows\n",
      "\n"
     ]
    },
    {
     "name": "stderr",
     "output_type": "stream",
     "text": [
      "24/05/28 09:22:20 WARN TaskSetManager: Stage 294 contains a task of very large size (3432 KiB). The maximum recommended task size is 1000 KiB.\n",
      "24/05/28 09:22:20 WARN TaskSetManager: Stage 297 contains a task of very large size (3432 KiB). The maximum recommended task size is 1000 KiB.\n"
     ]
    },
    {
     "name": "stdout",
     "output_type": "stream",
     "text": [
      "+-----------+-----+\n",
      "|   nameDest|count|\n",
      "+-----------+-----+\n",
      "| C786512193|    2|\n",
      "|C1647152236|    2|\n",
      "|C1466697191|    3|\n",
      "|C1371162684|    2|\n",
      "|C1877914664|    2|\n",
      "| C429293207|    2|\n",
      "| C795714848|    2|\n",
      "|C2121557453|    2|\n",
      "|  C33956056|    2|\n",
      "|C1188162916|    2|\n",
      "+-----------+-----+\n",
      "only showing top 10 rows\n",
      "\n"
     ]
    },
    {
     "name": "stderr",
     "output_type": "stream",
     "text": [
      "24/05/28 09:22:21 WARN TaskSetManager: Stage 298 contains a task of very large size (3432 KiB). The maximum recommended task size is 1000 KiB.\n",
      "24/05/28 09:22:21 WARN TaskSetManager: Stage 301 contains a task of very large size (3432 KiB). The maximum recommended task size is 1000 KiB.\n"
     ]
    },
    {
     "name": "stdout",
     "output_type": "stream",
     "text": [
      "+-----------+-----+\n",
      "|   nameDest|count|\n",
      "+-----------+-----+\n",
      "| C786512193|    2|\n",
      "|C1647152236|    2|\n",
      "|C1466697191|    3|\n",
      "|C1371162684|    2|\n",
      "|C1877914664|    2|\n",
      "| C429293207|    2|\n",
      "| C795714848|    2|\n",
      "|C2121557453|    2|\n",
      "|  C33956056|    2|\n",
      "|C1188162916|    2|\n",
      "+-----------+-----+\n",
      "only showing top 10 rows\n",
      "\n"
     ]
    },
    {
     "name": "stderr",
     "output_type": "stream",
     "text": [
      "24/05/28 09:22:22 WARN TaskSetManager: Stage 302 contains a task of very large size (3432 KiB). The maximum recommended task size is 1000 KiB.\n",
      "24/05/28 09:22:23 WARN TaskSetManager: Stage 305 contains a task of very large size (3432 KiB). The maximum recommended task size is 1000 KiB.\n"
     ]
    },
    {
     "name": "stdout",
     "output_type": "stream",
     "text": [
      "+-----------+-----+\n",
      "|   nameDest|count|\n",
      "+-----------+-----+\n",
      "| C786512193|    2|\n",
      "|C1647152236|    2|\n",
      "|C1466697191|    3|\n",
      "|C1371162684|    2|\n",
      "|C1877914664|    2|\n",
      "| C429293207|    2|\n",
      "| C795714848|    2|\n",
      "|C2121557453|    2|\n",
      "|  C33956056|    2|\n",
      "|C1188162916|    2|\n",
      "+-----------+-----+\n",
      "only showing top 10 rows\n",
      "\n"
     ]
    },
    {
     "name": "stderr",
     "output_type": "stream",
     "text": [
      "24/05/28 09:22:23 WARN TaskSetManager: Stage 306 contains a task of very large size (3432 KiB). The maximum recommended task size is 1000 KiB.\n",
      "24/05/28 09:22:24 WARN TaskSetManager: Stage 309 contains a task of very large size (3432 KiB). The maximum recommended task size is 1000 KiB.\n"
     ]
    },
    {
     "name": "stdout",
     "output_type": "stream",
     "text": [
      "+-----------+-----+\n",
      "|   nameDest|count|\n",
      "+-----------+-----+\n",
      "| C786512193|    2|\n",
      "|C1647152236|    2|\n",
      "|C1466697191|    3|\n",
      "|C1371162684|    2|\n",
      "|C1877914664|    2|\n",
      "| C429293207|    2|\n",
      "| C795714848|    2|\n",
      "|C2121557453|    2|\n",
      "|  C33956056|    2|\n",
      "|C1188162916|    2|\n",
      "+-----------+-----+\n",
      "only showing top 10 rows\n",
      "\n"
     ]
    },
    {
     "name": "stderr",
     "output_type": "stream",
     "text": [
      "24/05/28 09:22:25 WARN TaskSetManager: Stage 310 contains a task of very large size (3432 KiB). The maximum recommended task size is 1000 KiB.\n",
      "24/05/28 09:22:25 WARN TaskSetManager: Stage 313 contains a task of very large size (3432 KiB). The maximum recommended task size is 1000 KiB.\n"
     ]
    },
    {
     "name": "stdout",
     "output_type": "stream",
     "text": [
      "+-----------+-----+\n",
      "|   nameDest|count|\n",
      "+-----------+-----+\n",
      "| C786512193|    2|\n",
      "|C1647152236|    2|\n",
      "|C1466697191|    3|\n",
      "|C1371162684|    2|\n",
      "|C1877914664|    2|\n",
      "| C429293207|    2|\n",
      "| C795714848|    2|\n",
      "|C2121557453|    2|\n",
      "|  C33956056|    2|\n",
      "|C1188162916|    2|\n",
      "+-----------+-----+\n",
      "only showing top 10 rows\n",
      "\n"
     ]
    },
    {
     "name": "stderr",
     "output_type": "stream",
     "text": [
      "24/05/28 09:22:26 WARN TaskSetManager: Stage 314 contains a task of very large size (3432 KiB). The maximum recommended task size is 1000 KiB.\n",
      "24/05/28 09:22:26 WARN TaskSetManager: Stage 317 contains a task of very large size (3432 KiB). The maximum recommended task size is 1000 KiB.\n"
     ]
    },
    {
     "name": "stdout",
     "output_type": "stream",
     "text": [
      "+-----------+-----+\n",
      "|   nameDest|count|\n",
      "+-----------+-----+\n",
      "| C786512193|    2|\n",
      "|C1647152236|    2|\n",
      "|C1466697191|    3|\n",
      "|C1371162684|    2|\n",
      "|C1877914664|    2|\n",
      "| C429293207|    2|\n",
      "| C795714848|    2|\n",
      "|C2121557453|    2|\n",
      "|  C33956056|    2|\n",
      "|C1188162916|    2|\n",
      "+-----------+-----+\n",
      "only showing top 10 rows\n",
      "\n"
     ]
    },
    {
     "name": "stderr",
     "output_type": "stream",
     "text": [
      "24/05/28 09:22:27 WARN TaskSetManager: Stage 318 contains a task of very large size (3432 KiB). The maximum recommended task size is 1000 KiB.\n",
      "24/05/28 09:22:27 WARN TaskSetManager: Stage 321 contains a task of very large size (3432 KiB). The maximum recommended task size is 1000 KiB.\n"
     ]
    },
    {
     "name": "stdout",
     "output_type": "stream",
     "text": [
      "+-----------+-----+\n",
      "|   nameDest|count|\n",
      "+-----------+-----+\n",
      "| C786512193|    2|\n",
      "|C1647152236|    2|\n",
      "|C1466697191|    3|\n",
      "|C1371162684|    2|\n",
      "|C1877914664|    2|\n",
      "| C429293207|    2|\n",
      "| C795714848|    2|\n",
      "|C2121557453|    2|\n",
      "|  C33956056|    2|\n",
      "|C1188162916|    2|\n",
      "+-----------+-----+\n",
      "only showing top 10 rows\n",
      "\n"
     ]
    },
    {
     "name": "stderr",
     "output_type": "stream",
     "text": [
      "24/05/28 09:22:28 WARN TaskSetManager: Stage 322 contains a task of very large size (3432 KiB). The maximum recommended task size is 1000 KiB.\n",
      "24/05/28 09:22:29 WARN TaskSetManager: Stage 325 contains a task of very large size (3432 KiB). The maximum recommended task size is 1000 KiB.\n"
     ]
    },
    {
     "name": "stdout",
     "output_type": "stream",
     "text": [
      "+-----------+-----+\n",
      "|   nameDest|count|\n",
      "+-----------+-----+\n",
      "| C786512193|    2|\n",
      "|C1647152236|    2|\n",
      "|C1466697191|    3|\n",
      "|C1371162684|    2|\n",
      "|C1877914664|    2|\n",
      "| C429293207|    2|\n",
      "| C795714848|    2|\n",
      "|C2121557453|    2|\n",
      "|  C33956056|    2|\n",
      "|C1188162916|    2|\n",
      "+-----------+-----+\n",
      "only showing top 10 rows\n",
      "\n"
     ]
    },
    {
     "name": "stderr",
     "output_type": "stream",
     "text": [
      "24/05/28 09:22:29 WARN TaskSetManager: Stage 326 contains a task of very large size (3432 KiB). The maximum recommended task size is 1000 KiB.\n",
      "24/05/28 09:22:30 WARN TaskSetManager: Stage 329 contains a task of very large size (3432 KiB). The maximum recommended task size is 1000 KiB.\n"
     ]
    },
    {
     "name": "stdout",
     "output_type": "stream",
     "text": [
      "+-----------+-----+\n",
      "|   nameDest|count|\n",
      "+-----------+-----+\n",
      "| C786512193|    2|\n",
      "|C1647152236|    2|\n",
      "|C1466697191|    3|\n",
      "|C1371162684|    2|\n",
      "|C1877914664|    2|\n",
      "| C429293207|    2|\n",
      "| C795714848|    2|\n",
      "|C2121557453|    2|\n",
      "|  C33956056|    2|\n",
      "|C1188162916|    2|\n",
      "+-----------+-----+\n",
      "only showing top 10 rows\n",
      "\n"
     ]
    },
    {
     "name": "stderr",
     "output_type": "stream",
     "text": [
      "24/05/28 09:22:31 WARN TaskSetManager: Stage 330 contains a task of very large size (3432 KiB). The maximum recommended task size is 1000 KiB.\n",
      "24/05/28 09:22:31 WARN TaskSetManager: Stage 333 contains a task of very large size (3432 KiB). The maximum recommended task size is 1000 KiB.\n"
     ]
    },
    {
     "name": "stdout",
     "output_type": "stream",
     "text": [
      "+-----------+-----+\n",
      "|   nameDest|count|\n",
      "+-----------+-----+\n",
      "| C786512193|    2|\n",
      "|C1647152236|    2|\n",
      "|C1466697191|    3|\n",
      "|C1371162684|    2|\n",
      "|C1877914664|    2|\n",
      "| C429293207|    2|\n",
      "| C795714848|    2|\n",
      "|C2121557453|    2|\n",
      "|  C33956056|    2|\n",
      "|C1188162916|    2|\n",
      "+-----------+-----+\n",
      "only showing top 10 rows\n",
      "\n"
     ]
    },
    {
     "name": "stderr",
     "output_type": "stream",
     "text": [
      "24/05/28 09:22:32 WARN TaskSetManager: Stage 334 contains a task of very large size (3432 KiB). The maximum recommended task size is 1000 KiB.\n",
      "24/05/28 09:22:32 WARN TaskSetManager: Stage 337 contains a task of very large size (3432 KiB). The maximum recommended task size is 1000 KiB.\n"
     ]
    },
    {
     "name": "stdout",
     "output_type": "stream",
     "text": [
      "+-----------+-----+\n",
      "|   nameDest|count|\n",
      "+-----------+-----+\n",
      "| C786512193|    2|\n",
      "|C1647152236|    2|\n",
      "|C1466697191|    3|\n",
      "|C1371162684|    2|\n",
      "|C1877914664|    2|\n",
      "| C429293207|    2|\n",
      "| C795714848|    2|\n",
      "|C2121557453|    2|\n",
      "|  C33956056|    2|\n",
      "|C1188162916|    2|\n",
      "+-----------+-----+\n",
      "only showing top 10 rows\n",
      "\n"
     ]
    },
    {
     "name": "stderr",
     "output_type": "stream",
     "text": [
      "24/05/28 09:22:33 WARN TaskSetManager: Stage 338 contains a task of very large size (3432 KiB). The maximum recommended task size is 1000 KiB.\n",
      "24/05/28 09:22:33 WARN TaskSetManager: Stage 341 contains a task of very large size (3432 KiB). The maximum recommended task size is 1000 KiB.\n"
     ]
    },
    {
     "name": "stdout",
     "output_type": "stream",
     "text": [
      "+-----------+-----+\n",
      "|   nameDest|count|\n",
      "+-----------+-----+\n",
      "| C786512193|    2|\n",
      "|C1647152236|    2|\n",
      "|C1466697191|    3|\n",
      "|C1371162684|    2|\n",
      "|C1877914664|    2|\n",
      "| C429293207|    2|\n",
      "| C795714848|    2|\n",
      "|C2121557453|    2|\n",
      "|  C33956056|    2|\n",
      "|C1188162916|    2|\n",
      "+-----------+-----+\n",
      "only showing top 10 rows\n",
      "\n"
     ]
    },
    {
     "name": "stderr",
     "output_type": "stream",
     "text": [
      "24/05/28 09:22:34 WARN TaskSetManager: Stage 342 contains a task of very large size (3432 KiB). The maximum recommended task size is 1000 KiB.\n",
      "24/05/28 09:22:35 WARN TaskSetManager: Stage 345 contains a task of very large size (3432 KiB). The maximum recommended task size is 1000 KiB.\n"
     ]
    },
    {
     "name": "stdout",
     "output_type": "stream",
     "text": [
      "+-----------+-----+\n",
      "|   nameDest|count|\n",
      "+-----------+-----+\n",
      "| C786512193|    2|\n",
      "|C1647152236|    2|\n",
      "|C1466697191|    3|\n",
      "|C1371162684|    2|\n",
      "|C1877914664|    2|\n",
      "| C429293207|    2|\n",
      "| C795714848|    2|\n",
      "|C2121557453|    2|\n",
      "|  C33956056|    2|\n",
      "|C1188162916|    2|\n",
      "+-----------+-----+\n",
      "only showing top 10 rows\n",
      "\n"
     ]
    },
    {
     "name": "stderr",
     "output_type": "stream",
     "text": [
      "24/05/28 09:22:35 WARN TaskSetManager: Stage 346 contains a task of very large size (3432 KiB). The maximum recommended task size is 1000 KiB.\n",
      "24/05/28 09:22:36 WARN TaskSetManager: Stage 349 contains a task of very large size (3432 KiB). The maximum recommended task size is 1000 KiB.\n"
     ]
    },
    {
     "name": "stdout",
     "output_type": "stream",
     "text": [
      "+-----------+-----+\n",
      "|   nameDest|count|\n",
      "+-----------+-----+\n",
      "| C786512193|    2|\n",
      "|C1647152236|    2|\n",
      "|C1466697191|    3|\n",
      "|C1371162684|    2|\n",
      "|C1877914664|    2|\n",
      "| C429293207|    2|\n",
      "| C795714848|    2|\n",
      "|C2121557453|    2|\n",
      "|  C33956056|    2|\n",
      "|C1188162916|    2|\n",
      "+-----------+-----+\n",
      "only showing top 10 rows\n",
      "\n"
     ]
    },
    {
     "name": "stderr",
     "output_type": "stream",
     "text": [
      "24/05/28 09:22:37 WARN TaskSetManager: Stage 350 contains a task of very large size (3432 KiB). The maximum recommended task size is 1000 KiB.\n",
      "24/05/28 09:22:37 WARN TaskSetManager: Stage 353 contains a task of very large size (3432 KiB). The maximum recommended task size is 1000 KiB.\n"
     ]
    },
    {
     "name": "stdout",
     "output_type": "stream",
     "text": [
      "+-----------+-----+\n",
      "|   nameDest|count|\n",
      "+-----------+-----+\n",
      "| C786512193|    2|\n",
      "|C1647152236|    2|\n",
      "|C1466697191|    3|\n",
      "|C1371162684|    2|\n",
      "|C1877914664|    2|\n",
      "| C429293207|    2|\n",
      "| C795714848|    2|\n",
      "|C2121557453|    2|\n",
      "|  C33956056|    2|\n",
      "|C1188162916|    2|\n",
      "+-----------+-----+\n",
      "only showing top 10 rows\n",
      "\n"
     ]
    },
    {
     "name": "stderr",
     "output_type": "stream",
     "text": [
      "24/05/28 09:22:38 WARN TaskSetManager: Stage 354 contains a task of very large size (3432 KiB). The maximum recommended task size is 1000 KiB.\n",
      "24/05/28 09:22:38 WARN TaskSetManager: Stage 357 contains a task of very large size (3432 KiB). The maximum recommended task size is 1000 KiB.\n"
     ]
    },
    {
     "name": "stdout",
     "output_type": "stream",
     "text": [
      "+-----------+-----+\n",
      "|   nameDest|count|\n",
      "+-----------+-----+\n",
      "| C786512193|    2|\n",
      "|C1647152236|    2|\n",
      "|C1466697191|    3|\n",
      "|C1371162684|    2|\n",
      "|C1877914664|    2|\n",
      "| C429293207|    2|\n",
      "| C795714848|    2|\n",
      "|C2121557453|    2|\n",
      "|  C33956056|    2|\n",
      "|C1188162916|    2|\n",
      "+-----------+-----+\n",
      "only showing top 10 rows\n",
      "\n"
     ]
    },
    {
     "name": "stderr",
     "output_type": "stream",
     "text": [
      "24/05/28 09:22:39 WARN TaskSetManager: Stage 358 contains a task of very large size (3432 KiB). The maximum recommended task size is 1000 KiB.\n",
      "24/05/28 09:22:39 WARN TaskSetManager: Stage 361 contains a task of very large size (3432 KiB). The maximum recommended task size is 1000 KiB.\n"
     ]
    },
    {
     "name": "stdout",
     "output_type": "stream",
     "text": [
      "+-----------+-----+\n",
      "|   nameDest|count|\n",
      "+-----------+-----+\n",
      "| C786512193|    2|\n",
      "|C1647152236|    2|\n",
      "|C1466697191|    3|\n",
      "|C1371162684|    2|\n",
      "|C1877914664|    2|\n",
      "| C429293207|    2|\n",
      "| C795714848|    2|\n",
      "|C2121557453|    2|\n",
      "|  C33956056|    2|\n",
      "|C1188162916|    2|\n",
      "+-----------+-----+\n",
      "only showing top 10 rows\n",
      "\n"
     ]
    },
    {
     "name": "stderr",
     "output_type": "stream",
     "text": [
      "24/05/28 09:22:40 WARN TaskSetManager: Stage 362 contains a task of very large size (3432 KiB). The maximum recommended task size is 1000 KiB.\n",
      "24/05/28 09:22:41 WARN TaskSetManager: Stage 365 contains a task of very large size (3432 KiB). The maximum recommended task size is 1000 KiB.\n"
     ]
    },
    {
     "name": "stdout",
     "output_type": "stream",
     "text": [
      "+-----------+-----+\n",
      "|   nameDest|count|\n",
      "+-----------+-----+\n",
      "| C786512193|    2|\n",
      "|C1647152236|    2|\n",
      "|C1466697191|    3|\n",
      "|C1371162684|    2|\n",
      "|C1877914664|    2|\n",
      "| C429293207|    2|\n",
      "| C795714848|    2|\n",
      "|C2121557453|    2|\n",
      "|  C33956056|    2|\n",
      "|C1188162916|    2|\n",
      "+-----------+-----+\n",
      "only showing top 10 rows\n",
      "\n"
     ]
    },
    {
     "name": "stderr",
     "output_type": "stream",
     "text": [
      "24/05/28 09:22:41 WARN TaskSetManager: Stage 366 contains a task of very large size (3432 KiB). The maximum recommended task size is 1000 KiB.\n",
      "24/05/28 09:22:42 WARN TaskSetManager: Stage 369 contains a task of very large size (3432 KiB). The maximum recommended task size is 1000 KiB.\n"
     ]
    },
    {
     "name": "stdout",
     "output_type": "stream",
     "text": [
      "+-----------+-----+\n",
      "|   nameDest|count|\n",
      "+-----------+-----+\n",
      "| C786512193|    2|\n",
      "|C1647152236|    2|\n",
      "|C1466697191|    3|\n",
      "|C1371162684|    2|\n",
      "|C1877914664|    2|\n",
      "| C429293207|    2|\n",
      "| C795714848|    2|\n",
      "|C2121557453|    2|\n",
      "|  C33956056|    2|\n",
      "|C1188162916|    2|\n",
      "+-----------+-----+\n",
      "only showing top 10 rows\n",
      "\n"
     ]
    },
    {
     "name": "stderr",
     "output_type": "stream",
     "text": [
      "24/05/28 09:22:43 WARN TaskSetManager: Stage 370 contains a task of very large size (3432 KiB). The maximum recommended task size is 1000 KiB.\n",
      "24/05/28 09:22:43 WARN TaskSetManager: Stage 373 contains a task of very large size (3432 KiB). The maximum recommended task size is 1000 KiB.\n"
     ]
    },
    {
     "name": "stdout",
     "output_type": "stream",
     "text": [
      "+-----------+-----+\n",
      "|   nameDest|count|\n",
      "+-----------+-----+\n",
      "| C786512193|    2|\n",
      "|C1647152236|    2|\n",
      "|C1466697191|    3|\n",
      "|C1371162684|    2|\n",
      "|C1877914664|    2|\n",
      "| C429293207|    2|\n",
      "| C795714848|    2|\n",
      "|C2121557453|    2|\n",
      "|  C33956056|    2|\n",
      "|C1188162916|    2|\n",
      "+-----------+-----+\n",
      "only showing top 10 rows\n",
      "\n"
     ]
    },
    {
     "name": "stderr",
     "output_type": "stream",
     "text": [
      "24/05/28 09:22:44 WARN TaskSetManager: Stage 374 contains a task of very large size (3432 KiB). The maximum recommended task size is 1000 KiB.\n",
      "24/05/28 09:22:44 WARN TaskSetManager: Stage 377 contains a task of very large size (3432 KiB). The maximum recommended task size is 1000 KiB.\n"
     ]
    },
    {
     "name": "stdout",
     "output_type": "stream",
     "text": [
      "+-----------+-----+\n",
      "|   nameDest|count|\n",
      "+-----------+-----+\n",
      "| C786512193|    2|\n",
      "|C1647152236|    2|\n",
      "|C1466697191|    3|\n",
      "|C1371162684|    2|\n",
      "|C1877914664|    2|\n",
      "| C429293207|    2|\n",
      "| C795714848|    2|\n",
      "|C2121557453|    2|\n",
      "|  C33956056|    2|\n",
      "|C1188162916|    2|\n",
      "+-----------+-----+\n",
      "only showing top 10 rows\n",
      "\n"
     ]
    },
    {
     "name": "stderr",
     "output_type": "stream",
     "text": [
      "24/05/28 09:22:45 WARN TaskSetManager: Stage 378 contains a task of very large size (3432 KiB). The maximum recommended task size is 1000 KiB.\n",
      "24/05/28 09:22:45 WARN TaskSetManager: Stage 381 contains a task of very large size (3432 KiB). The maximum recommended task size is 1000 KiB.\n"
     ]
    },
    {
     "name": "stdout",
     "output_type": "stream",
     "text": [
      "+-----------+-----+\n",
      "|   nameDest|count|\n",
      "+-----------+-----+\n",
      "| C786512193|    2|\n",
      "|C1647152236|    2|\n",
      "|C1466697191|    3|\n",
      "|C1371162684|    2|\n",
      "|C1877914664|    2|\n",
      "| C429293207|    2|\n",
      "| C795714848|    2|\n",
      "|C2121557453|    2|\n",
      "|  C33956056|    2|\n",
      "|C1188162916|    2|\n",
      "+-----------+-----+\n",
      "only showing top 10 rows\n",
      "\n"
     ]
    },
    {
     "name": "stderr",
     "output_type": "stream",
     "text": [
      "24/05/28 09:22:46 WARN TaskSetManager: Stage 382 contains a task of very large size (3432 KiB). The maximum recommended task size is 1000 KiB.\n",
      "24/05/28 09:22:47 WARN TaskSetManager: Stage 385 contains a task of very large size (3432 KiB). The maximum recommended task size is 1000 KiB.\n"
     ]
    },
    {
     "name": "stdout",
     "output_type": "stream",
     "text": [
      "+-----------+-----+\n",
      "|   nameDest|count|\n",
      "+-----------+-----+\n",
      "| C786512193|    2|\n",
      "|C1647152236|    2|\n",
      "|C1466697191|    3|\n",
      "|C1371162684|    2|\n",
      "|C1877914664|    2|\n",
      "| C429293207|    2|\n",
      "| C795714848|    2|\n",
      "|C2121557453|    2|\n",
      "|  C33956056|    2|\n",
      "|C1188162916|    2|\n",
      "+-----------+-----+\n",
      "only showing top 10 rows\n",
      "\n"
     ]
    },
    {
     "name": "stderr",
     "output_type": "stream",
     "text": [
      "24/05/28 09:22:48 WARN TaskSetManager: Stage 386 contains a task of very large size (3432 KiB). The maximum recommended task size is 1000 KiB.\n",
      "24/05/28 09:22:48 WARN TaskSetManager: Stage 389 contains a task of very large size (3432 KiB). The maximum recommended task size is 1000 KiB.\n"
     ]
    },
    {
     "name": "stdout",
     "output_type": "stream",
     "text": [
      "+-----------+-----+\n",
      "|   nameDest|count|\n",
      "+-----------+-----+\n",
      "| C786512193|    2|\n",
      "|C1647152236|    2|\n",
      "|C1466697191|    3|\n",
      "|C1371162684|    2|\n",
      "|C1877914664|    2|\n",
      "| C429293207|    2|\n",
      "| C795714848|    2|\n",
      "|C2121557453|    2|\n",
      "|  C33956056|    2|\n",
      "|C1188162916|    2|\n",
      "+-----------+-----+\n",
      "only showing top 10 rows\n",
      "\n"
     ]
    },
    {
     "name": "stderr",
     "output_type": "stream",
     "text": [
      "24/05/28 09:22:49 WARN TaskSetManager: Stage 390 contains a task of very large size (3432 KiB). The maximum recommended task size is 1000 KiB.\n",
      "24/05/28 09:22:49 WARN TaskSetManager: Stage 393 contains a task of very large size (3432 KiB). The maximum recommended task size is 1000 KiB.\n"
     ]
    },
    {
     "name": "stdout",
     "output_type": "stream",
     "text": [
      "+-----------+-----+\n",
      "|   nameDest|count|\n",
      "+-----------+-----+\n",
      "| C786512193|    2|\n",
      "|C1647152236|    2|\n",
      "|C1466697191|    3|\n",
      "|C1371162684|    2|\n",
      "|C1877914664|    2|\n",
      "| C429293207|    2|\n",
      "| C795714848|    2|\n",
      "|C2121557453|    2|\n",
      "|  C33956056|    2|\n",
      "|C1188162916|    2|\n",
      "+-----------+-----+\n",
      "only showing top 10 rows\n",
      "\n"
     ]
    },
    {
     "name": "stderr",
     "output_type": "stream",
     "text": [
      "24/05/28 09:22:50 WARN TaskSetManager: Stage 394 contains a task of very large size (3432 KiB). The maximum recommended task size is 1000 KiB.\n",
      "24/05/28 09:22:50 WARN TaskSetManager: Stage 397 contains a task of very large size (3432 KiB). The maximum recommended task size is 1000 KiB.\n"
     ]
    },
    {
     "name": "stdout",
     "output_type": "stream",
     "text": [
      "+-----------+-----+\n",
      "|   nameDest|count|\n",
      "+-----------+-----+\n",
      "| C786512193|    2|\n",
      "|C1647152236|    2|\n",
      "|C1466697191|    3|\n",
      "|C1371162684|    2|\n",
      "|C1877914664|    2|\n",
      "| C429293207|    2|\n",
      "| C795714848|    2|\n",
      "|C2121557453|    2|\n",
      "|  C33956056|    2|\n",
      "|C1188162916|    2|\n",
      "+-----------+-----+\n",
      "only showing top 10 rows\n",
      "\n"
     ]
    },
    {
     "name": "stderr",
     "output_type": "stream",
     "text": [
      "24/05/28 09:22:51 WARN TaskSetManager: Stage 398 contains a task of very large size (3432 KiB). The maximum recommended task size is 1000 KiB.\n",
      "24/05/28 09:22:51 WARN TaskSetManager: Stage 401 contains a task of very large size (3432 KiB). The maximum recommended task size is 1000 KiB.\n"
     ]
    },
    {
     "name": "stdout",
     "output_type": "stream",
     "text": [
      "+-----------+-----+\n",
      "|   nameDest|count|\n",
      "+-----------+-----+\n",
      "| C786512193|    2|\n",
      "|C1647152236|    2|\n",
      "|C1466697191|    3|\n",
      "|C1371162684|    2|\n",
      "|C1877914664|    2|\n",
      "| C429293207|    2|\n",
      "| C795714848|    2|\n",
      "|C2121557453|    2|\n",
      "|  C33956056|    2|\n",
      "|C1188162916|    2|\n",
      "+-----------+-----+\n",
      "only showing top 10 rows\n",
      "\n"
     ]
    },
    {
     "name": "stderr",
     "output_type": "stream",
     "text": [
      "24/05/28 09:22:52 WARN TaskSetManager: Stage 402 contains a task of very large size (3432 KiB). The maximum recommended task size is 1000 KiB.\n",
      "24/05/28 09:22:53 WARN TaskSetManager: Stage 405 contains a task of very large size (3432 KiB). The maximum recommended task size is 1000 KiB.\n"
     ]
    },
    {
     "name": "stdout",
     "output_type": "stream",
     "text": [
      "+-----------+-----+\n",
      "|   nameDest|count|\n",
      "+-----------+-----+\n",
      "| C786512193|    2|\n",
      "|C1647152236|    2|\n",
      "|C1466697191|    3|\n",
      "|C1371162684|    2|\n",
      "|C1877914664|    2|\n",
      "| C429293207|    2|\n",
      "| C795714848|    2|\n",
      "|C2121557453|    2|\n",
      "|  C33956056|    2|\n",
      "|C1188162916|    2|\n",
      "+-----------+-----+\n",
      "only showing top 10 rows\n",
      "\n"
     ]
    },
    {
     "name": "stderr",
     "output_type": "stream",
     "text": [
      "24/05/28 09:22:54 WARN TaskSetManager: Stage 406 contains a task of very large size (3432 KiB). The maximum recommended task size is 1000 KiB.\n",
      "24/05/28 09:22:54 WARN TaskSetManager: Stage 409 contains a task of very large size (3432 KiB). The maximum recommended task size is 1000 KiB.\n"
     ]
    },
    {
     "name": "stdout",
     "output_type": "stream",
     "text": [
      "+-----------+-----+\n",
      "|   nameDest|count|\n",
      "+-----------+-----+\n",
      "| C786512193|    2|\n",
      "|C1647152236|    2|\n",
      "|C1466697191|    3|\n",
      "|C1371162684|    2|\n",
      "|C1877914664|    2|\n",
      "| C429293207|    2|\n",
      "| C795714848|    2|\n",
      "|C2121557453|    2|\n",
      "|  C33956056|    2|\n",
      "|C1188162916|    2|\n",
      "+-----------+-----+\n",
      "only showing top 10 rows\n",
      "\n"
     ]
    },
    {
     "name": "stderr",
     "output_type": "stream",
     "text": [
      "24/05/28 09:22:55 WARN TaskSetManager: Stage 410 contains a task of very large size (3432 KiB). The maximum recommended task size is 1000 KiB.\n",
      "24/05/28 09:22:55 WARN TaskSetManager: Stage 413 contains a task of very large size (3432 KiB). The maximum recommended task size is 1000 KiB.\n"
     ]
    },
    {
     "name": "stdout",
     "output_type": "stream",
     "text": [
      "+-----------+-----+\n",
      "|   nameDest|count|\n",
      "+-----------+-----+\n",
      "| C786512193|    2|\n",
      "|C1647152236|    2|\n",
      "|C1466697191|    3|\n",
      "|C1371162684|    2|\n",
      "|C1877914664|    2|\n",
      "| C429293207|    2|\n",
      "| C795714848|    2|\n",
      "|C2121557453|    2|\n",
      "|  C33956056|    2|\n",
      "|C1188162916|    2|\n",
      "+-----------+-----+\n",
      "only showing top 10 rows\n",
      "\n"
     ]
    },
    {
     "name": "stderr",
     "output_type": "stream",
     "text": [
      "24/05/28 09:22:56 WARN TaskSetManager: Stage 414 contains a task of very large size (3432 KiB). The maximum recommended task size is 1000 KiB.\n",
      "24/05/28 09:22:56 WARN TaskSetManager: Stage 417 contains a task of very large size (3432 KiB). The maximum recommended task size is 1000 KiB.\n"
     ]
    },
    {
     "name": "stdout",
     "output_type": "stream",
     "text": [
      "+-----------+-----+\n",
      "|   nameDest|count|\n",
      "+-----------+-----+\n",
      "| C786512193|    2|\n",
      "|C1647152236|    2|\n",
      "|C1466697191|    3|\n",
      "|C1371162684|    2|\n",
      "|C1877914664|    2|\n",
      "| C429293207|    2|\n",
      "| C795714848|    2|\n",
      "|C2121557453|    2|\n",
      "|  C33956056|    2|\n",
      "|C1188162916|    2|\n",
      "+-----------+-----+\n",
      "only showing top 10 rows\n",
      "\n"
     ]
    },
    {
     "name": "stderr",
     "output_type": "stream",
     "text": [
      "24/05/28 09:22:57 WARN TaskSetManager: Stage 418 contains a task of very large size (3432 KiB). The maximum recommended task size is 1000 KiB.\n",
      "24/05/28 09:22:57 WARN TaskSetManager: Stage 421 contains a task of very large size (3432 KiB). The maximum recommended task size is 1000 KiB.\n"
     ]
    },
    {
     "name": "stdout",
     "output_type": "stream",
     "text": [
      "+-----------+-----+\n",
      "|   nameDest|count|\n",
      "+-----------+-----+\n",
      "| C786512193|    2|\n",
      "|C1647152236|    2|\n",
      "|C1466697191|    3|\n",
      "|C1371162684|    2|\n",
      "|C1877914664|    2|\n",
      "| C429293207|    2|\n",
      "| C795714848|    2|\n",
      "|C2121557453|    2|\n",
      "|  C33956056|    2|\n",
      "|C1188162916|    2|\n",
      "+-----------+-----+\n",
      "only showing top 10 rows\n",
      "\n"
     ]
    },
    {
     "name": "stderr",
     "output_type": "stream",
     "text": [
      "24/05/28 09:22:58 WARN TaskSetManager: Stage 422 contains a task of very large size (3432 KiB). The maximum recommended task size is 1000 KiB.\n",
      "24/05/28 09:22:59 WARN TaskSetManager: Stage 425 contains a task of very large size (3432 KiB). The maximum recommended task size is 1000 KiB.\n"
     ]
    },
    {
     "name": "stdout",
     "output_type": "stream",
     "text": [
      "+-----------+-----+\n",
      "|   nameDest|count|\n",
      "+-----------+-----+\n",
      "| C786512193|    2|\n",
      "|C1647152236|    2|\n",
      "|C1466697191|    3|\n",
      "|C1371162684|    2|\n",
      "|C1877914664|    2|\n",
      "| C429293207|    2|\n",
      "| C795714848|    2|\n",
      "|C2121557453|    2|\n",
      "|  C33956056|    2|\n",
      "|C1188162916|    2|\n",
      "+-----------+-----+\n",
      "only showing top 10 rows\n",
      "\n"
     ]
    },
    {
     "name": "stderr",
     "output_type": "stream",
     "text": [
      "24/05/28 09:22:59 WARN TaskSetManager: Stage 426 contains a task of very large size (3432 KiB). The maximum recommended task size is 1000 KiB.\n",
      "24/05/28 09:23:00 WARN TaskSetManager: Stage 429 contains a task of very large size (3432 KiB). The maximum recommended task size is 1000 KiB.\n"
     ]
    },
    {
     "name": "stdout",
     "output_type": "stream",
     "text": [
      "+-----------+-----+\n",
      "|   nameDest|count|\n",
      "+-----------+-----+\n",
      "| C786512193|    2|\n",
      "|C1647152236|    2|\n",
      "|C1466697191|    3|\n",
      "|C1371162684|    2|\n",
      "|C1877914664|    2|\n",
      "| C429293207|    2|\n",
      "| C795714848|    2|\n",
      "|C2121557453|    2|\n",
      "|  C33956056|    2|\n",
      "|C1188162916|    2|\n",
      "+-----------+-----+\n",
      "only showing top 10 rows\n",
      "\n"
     ]
    },
    {
     "name": "stderr",
     "output_type": "stream",
     "text": [
      "24/05/28 09:23:01 WARN TaskSetManager: Stage 430 contains a task of very large size (3432 KiB). The maximum recommended task size is 1000 KiB.\n",
      "24/05/28 09:23:01 WARN TaskSetManager: Stage 433 contains a task of very large size (3432 KiB). The maximum recommended task size is 1000 KiB.\n"
     ]
    },
    {
     "name": "stdout",
     "output_type": "stream",
     "text": [
      "+-----------+-----+\n",
      "|   nameDest|count|\n",
      "+-----------+-----+\n",
      "| C786512193|    2|\n",
      "|C1647152236|    2|\n",
      "|C1466697191|    3|\n",
      "|C1371162684|    2|\n",
      "|C1877914664|    2|\n",
      "| C429293207|    2|\n",
      "| C795714848|    2|\n",
      "|C2121557453|    2|\n",
      "|  C33956056|    2|\n",
      "|C1188162916|    2|\n",
      "+-----------+-----+\n",
      "only showing top 10 rows\n",
      "\n"
     ]
    },
    {
     "name": "stderr",
     "output_type": "stream",
     "text": [
      "24/05/28 09:23:02 WARN TaskSetManager: Stage 434 contains a task of very large size (3432 KiB). The maximum recommended task size is 1000 KiB.\n",
      "24/05/28 09:23:02 WARN TaskSetManager: Stage 437 contains a task of very large size (3432 KiB). The maximum recommended task size is 1000 KiB.\n"
     ]
    },
    {
     "name": "stdout",
     "output_type": "stream",
     "text": [
      "+-----------+-----+\n",
      "|   nameDest|count|\n",
      "+-----------+-----+\n",
      "| C786512193|    2|\n",
      "|C1647152236|    2|\n",
      "|C1466697191|    3|\n",
      "|C1371162684|    2|\n",
      "|C1877914664|    2|\n",
      "| C429293207|    2|\n",
      "| C795714848|    2|\n",
      "|C2121557453|    2|\n",
      "|  C33956056|    2|\n",
      "|C1188162916|    2|\n",
      "+-----------+-----+\n",
      "only showing top 10 rows\n",
      "\n"
     ]
    }
   ],
   "source": [
    "import time\n",
    "\n",
    "for x in range(50):\n",
    "    _df = spark.sql(\n",
    "        \"SELECT * FROM dest_counts WHERE nameDest != 'nameDest' AND count >= 2\"\n",
    "    )\n",
    "\n",
    "    if _df.count() > 0:\n",
    "        _df.show(10)\n",
    "        \n",
    "    time.sleep(0.5)"
   ]
  },
  {
   "cell_type": "code",
   "execution_count": 10,
   "id": "051bdcbd-a038-453b-9ef0-73a8cefd2698",
   "metadata": {},
   "outputs": [
    {
     "data": {
      "text/plain": [
       "True"
      ]
     },
     "execution_count": 10,
     "metadata": {},
     "output_type": "execute_result"
    }
   ],
   "source": [
    "spark.streams.active[0].isActive"
   ]
  },
  {
   "cell_type": "code",
   "execution_count": 11,
   "id": "e43baa98-e502-4df4-97ea-4c03e380d3c3",
   "metadata": {},
   "outputs": [
    {
     "data": {
      "text/plain": [
       "{'message': 'Processing new data',\n",
       " 'isDataAvailable': True,\n",
       " 'isTriggerActive': True}"
      ]
     },
     "execution_count": 11,
     "metadata": {},
     "output_type": "execute_result"
    }
   ],
   "source": [
    "activityQuery.status"
   ]
  },
  {
   "cell_type": "code",
   "execution_count": 15,
   "id": "561ee2da-dfdf-4c8d-ae81-e5b7104a1685",
   "metadata": {},
   "outputs": [
    {
     "name": "stderr",
     "output_type": "stream",
     "text": [
      "24/05/28 08:59:07 ERROR WriteToDataSourceV2Exec: Data source write support MicroBatchWrite[epoch: 4, writer: org.apache.spark.sql.execution.streaming.sources.MemoryStreamingWrite@2f62694d] is aborting.\n",
      "24/05/28 08:59:07 ERROR WriteToDataSourceV2Exec: Data source write support MicroBatchWrite[epoch: 4, writer: org.apache.spark.sql.execution.streaming.sources.MemoryStreamingWrite@2f62694d] aborted.\n",
      "24/05/28 08:59:07 WARN TaskSetManager: Lost task 88.0 in stage 45.0 (TID 3142) (172.24.0.3 executor 0): TaskKilled (Stage cancelled: Job 20 cancelled part of cancelled job group ad6a5144-b5fc-462c-95e1-38d796e70944)\n",
      "24/05/28 08:59:07 WARN TaskSetManager: Lost task 86.0 in stage 45.0 (TID 3140) (172.24.0.3 executor 0): TaskKilled (Stage cancelled: Job 20 cancelled part of cancelled job group ad6a5144-b5fc-462c-95e1-38d796e70944)\n",
      "24/05/28 08:59:07 WARN TaskSetManager: Lost task 87.0 in stage 45.0 (TID 3141) (172.24.0.3 executor 0): TaskKilled (Stage cancelled: Job 20 cancelled part of cancelled job group ad6a5144-b5fc-462c-95e1-38d796e70944)\n",
      "24/05/28 08:59:07 WARN TaskSetManager: Lost task 89.0 in stage 45.0 (TID 3143) (172.24.0.3 executor 0): TaskKilled (Stage cancelled: Job 20 cancelled part of cancelled job group ad6a5144-b5fc-462c-95e1-38d796e70944)\n"
     ]
    }
   ],
   "source": [
    "activityQuery.stop()"
   ]
  },
  {
   "cell_type": "code",
   "execution_count": null,
   "id": "896817a7-f07a-494f-8eaa-5695ce2b9c8a",
   "metadata": {},
   "outputs": [],
   "source": []
  },
  {
   "cell_type": "code",
   "execution_count": null,
   "id": "50629a20-96fb-44d8-9a98-77a83e8eacae",
   "metadata": {},
   "outputs": [],
   "source": []
  }
 ],
 "metadata": {
  "kernelspec": {
   "display_name": "Python 3 (ipykernel)",
   "language": "python",
   "name": "python3"
  },
  "language_info": {
   "codemirror_mode": {
    "name": "ipython",
    "version": 3
   },
   "file_extension": ".py",
   "mimetype": "text/x-python",
   "name": "python",
   "nbconvert_exporter": "python",
   "pygments_lexer": "ipython3",
   "version": "3.11.9"
  }
 },
 "nbformat": 4,
 "nbformat_minor": 5
}
